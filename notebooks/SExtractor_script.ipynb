{
 "cells": [
  {
   "cell_type": "markdown",
   "metadata": {},
   "source": [
    "# Running SExtractor on simulated galsim images"
   ]
  },
  {
   "cell_type": "code",
   "execution_count": 2,
   "metadata": {},
   "outputs": [],
   "source": [
    "#install sep"
   ]
  },
  {
   "cell_type": "code",
   "execution_count": 1,
   "metadata": {},
   "outputs": [],
   "source": [
    "import matplotlib.pyplot as plt\n",
    "from matplotlib.patches import Ellipse\n",
    "import numpy as np\n",
    "# from tqdm import tqdm\n",
    "import sep\n",
    "from statistics import mean \n",
    "import pandas as pd"
   ]
  },
  {
   "cell_type": "code",
   "execution_count": 2,
   "metadata": {},
   "outputs": [],
   "source": [
    "BIG_DISTANCE = 1e30\n",
    "NO_BLEND = 0\n",
    "BLEND = 1\n",
    "MISS_EXTRACTION = 16"
   ]
  },
  {
   "cell_type": "markdown",
   "metadata": {},
   "source": [
    "## Script for SExtractor\n",
    "Script written by A. Guinot : https://github.com/aguinot"
   ]
  },
  {
   "cell_type": "code",
   "execution_count": 3,
   "metadata": {},
   "outputs": [],
   "source": [
    "class Run_Sep:\n",
    "    \"\"\"\n",
    "    \"\"\"\n",
    "\n",
    "    def __init__(self):\n",
    "        \"\"\"\n",
    "        \"\"\"\n",
    "\n",
    "    @staticmethod\n",
    "    def get_power_2(x):\n",
    "        \"\"\" Get power 2\n",
    "\n",
    "        Decompose a number on power of 2 and return the powers.\n",
    "\n",
    "        Example\n",
    "        -------\n",
    "        3 -> 1, 2\n",
    "        16 -> 16\n",
    "        13 -> 1, 4, 8\n",
    "\n",
    "        Paramters\n",
    "        ---------\n",
    "        x : int\n",
    "            Number to decompose.\n",
    "\n",
    "        Returns\n",
    "        -------\n",
    "        powers : list\n",
    "            List of the powers find.\n",
    "\n",
    "        \"\"\"\n",
    "\n",
    "        powers = []\n",
    "        i = 1\n",
    "        while i <= x:\n",
    "            if i & x:\n",
    "                powers.append(i)\n",
    "            i <<= 1\n",
    "        return powers\n",
    "\n",
    "    def run_sep(self, img, thresh=1.5, deblend_nthresh=32, deblend_cont=0.005, sig_noise=None):\n",
    "        \"\"\" Run sep\n",
    "\n",
    "        Run sep algorithm on a vignet.\n",
    "\n",
    "        Parameters\n",
    "        ----------\n",
    "        img : numpy.ndarray\n",
    "            Array containing the image.\n",
    "        thresh : float\n",
    "            Detection threshold. (x*sigma_noise with thresh=x)\n",
    "        deblend_nthresh : int\n",
    "            Number of bin to do for the blend identification (default = 32).\n",
    "        deblend_cont : float\n",
    "            Minimum flux ratio to consider a blend in [0, 1] (default = 0.005).\n",
    "        sig_noise : float\n",
    "            Sigma of the noise if known. If None it will be derive from the\n",
    "            background which might not be accurate on small vignets.\n",
    "\n",
    "        Returns\n",
    "        -------\n",
    "        res : list\n",
    "            List return by sep.extract.\n",
    "\n",
    "        \"\"\"\n",
    "        sigmas = []\n",
    "\n",
    "        if sig_noise == None:\n",
    "            bkg = sep.Background(img)\n",
    "            sig_noise = bkg.globalrms\n",
    "\n",
    "\n",
    "        res = sep.extract(img, thresh, err=sig_noise,\n",
    "                          deblend_nthresh=deblend_nthresh,\n",
    "                          deblend_cont=deblend_cont)\n",
    "        return res\n",
    "\n",
    "    def check_blend(self, res):\n",
    "        \"\"\" Check blend\n",
    "\n",
    "        Check if objects identify by sep.extract are flagged as blended by\n",
    "        SExtractor.\n",
    "\n",
    "        Parameters\n",
    "        ----------\n",
    "        res : list\n",
    "            Output of sep.extract method.\n",
    "\n",
    "        Returns\n",
    "        -------\n",
    "        flags : list\n",
    "            List of the flag for each objects. flag = 1 if the object is blended\n",
    "            and 0 otherwise.\n",
    "\n",
    "        \"\"\"\n",
    "\n",
    "        n_obj = len(res)\n",
    "\n",
    "        flags = [1 if sep.OBJ_MERGED in self.get_power_2(res[i]['flag']) else 0 for i in range(n_obj)] # , dtype=bool).astype(int)\n",
    "\n",
    "        return flags\n",
    "\n",
    "    @staticmethod\n",
    "    def compute_dist(obj_res, obj_true_pos):\n",
    "        \"\"\" Compute distance\n",
    "\n",
    "        Compute the euclidean distance between 2 points.\n",
    "\n",
    "        Parameters\n",
    "        ----------\n",
    "        obj_res : numpy.ndarray\n",
    "            Structure array return by sep.extract method for one object.\n",
    "        obj_true_pos : list\n",
    "            List containing the true position. (example : [x, y])\n",
    "\n",
    "        Returns\n",
    "        -------\n",
    "        dist : float\n",
    "            Euclidean distance between 2 points.\n",
    "\n",
    "        \"\"\"\n",
    "\n",
    "        dist = np.sqrt((obj_res['x'] - obj_true_pos[0])**2. + (obj_res['y'] - obj_true_pos[1])**2.)\n",
    "\n",
    "        return dist\n",
    "\n",
    "    def get_dist(self, res, true_pos, thresh = 2):\n",
    "        \"\"\" Get distance\n",
    "\n",
    "        This method return the distance between the real objects and the best\n",
    "        match find in the SExtractor output. If the distance is larger than the\n",
    "        the threshold seted then the object is flag.\n",
    "\n",
    "        Parameters\n",
    "        ----------\n",
    "        res : list\n",
    "            Output of the sep.extract method.\n",
    "        true_pos : list\n",
    "            List of the true positions (example : [[x1, y1], [x2, y2], ...]\n",
    "        thresh : float\n",
    "            Maximum distance allowed for a match (default = 2)\n",
    "\n",
    "        Returns\n",
    "        -------\n",
    "        numpy.ndarray\n",
    "            Array containing all the distances.\n",
    "\n",
    "        \"\"\"\n",
    "\n",
    "        dists = []\n",
    "        ind_used = []\n",
    "        for i in range(len(true_pos)):\n",
    "            tmp = BIG_DISTANCE\n",
    "            for j in range(len(res)):\n",
    "                tmp2 = self.compute_dist(res[j], true_pos[i])\n",
    "                ind_tmp = -10\n",
    "                if (tmp2 < tmp) and (j not in ind_used) and (tmp2 < thresh):\n",
    "                    tmp = tmp2\n",
    "                    ind_tmp = j\n",
    "            ind_used.append(ind_tmp)\n",
    "            dists.append(tmp)\n",
    "\n",
    "        return np.array(dists)\n",
    "\n",
    "    def _check_dist(self, dists):\n",
    "        \"\"\" Check distance\n",
    "\n",
    "        Flag a list of object depending if SExtractor well identify them or not.\n",
    "        If at least one object in the list is not well identify will return\n",
    "        False.\n",
    "\n",
    "        Parameters\n",
    "        ----------\n",
    "        dists : list\n",
    "            List of distances return by the method get_dist\n",
    "\n",
    "        Returns\n",
    "        int\n",
    "            1 if all the objects are good and 0 otherwise\n",
    "\n",
    "        \"\"\"\n",
    "\n",
    "        return np.prod([1 if dist < BIG_DISTANCE else 0 for dist in dists], dtype=bool).astype(int)\n",
    "\n",
    "    # def get_blend(self, n_obj_list, flags):\n",
    "    #     \"\"\" Get blend\n",
    "    #\n",
    "    #     Check if there is a blend in a vignet. We consider a vignet as blended\n",
    "    #     if there is more than 1 object or if the object is consider as blended\n",
    "    #     by SExtractor\n",
    "    #\n",
    "    #     Paramters\n",
    "    #     ---------\n",
    "    #     n_obj_list : list\n",
    "    #\n",
    "    #     \"\"\"\n",
    "    #\n",
    "    #     blend_list = [1 if (n_obj > 1) or (flag == 1) else 0 for n_obj, flag in zip(n_obj_list, flags)]\n",
    "    #\n",
    "    #     return blend_list\n",
    "\n",
    "    def process(self, f, epoch=0):\n",
    "        \"\"\" Process\n",
    "\n",
    "        Make the all process of blend identification using SExtractor routines.\n",
    "        Blend definition used :\n",
    "        0 : no blend\n",
    "        1 : blend well find\n",
    "        16 : miss identification\n",
    "\n",
    "        Parameters\n",
    "        ----------\n",
    "        f : numpy.ndarray\n",
    "            Output of the LenSimu code.\n",
    "        epoch : int\n",
    "            Epoch of interest in case of multi-epoch simulations (default = 0).\n",
    "\n",
    "        Returns\n",
    "        -------\n",
    "        blend_flag : numpy.ndarray\n",
    "            Array containing the final flag for each vignets.\n",
    "\n",
    "        \"\"\"\n",
    "\n",
    "        final_res = []\n",
    "        final_flags = []\n",
    "        dists = []\n",
    "        all_res = []\n",
    "        blend_flag = []           # 0 : no blend, 1 : blend well find, 16 : miss identification\n",
    " \n",
    "        for obj in f:\n",
    "            # Retrieve image w/out noise\n",
    "            #img = obj['galsim_image'][epoch].array\n",
    "            \n",
    "            # Retrieve image w/ noise\n",
    "            img = obj['galsim_image_noisy']\n",
    "\n",
    "            true_nobj = 1\n",
    "            if obj['blended'] == True:\n",
    "                true_nobj += len(obj['blend_param']['dx'])\n",
    "\n",
    "            res = self.run_sep(img)\n",
    "\n",
    "            obj_pos = [[img.shape[0] / 2., img.shape[1] / 2.]]\n",
    "\n",
    "            if len(res) == 0:\n",
    "                blend_tmp = MISS_EXTRACTION\n",
    "\n",
    "            elif len(res) == 1:\n",
    "                if obj['blended'] == True:\n",
    "                    obj_pos += [[obj_pos[0][0] + obj['blend_param']['dx'][i], obj_pos[0][1] + obj['blend_param']['dy'][i]] for i in range(true_nobj-1)]\n",
    "                dists_tmp = self.get_dist(res, obj_pos)\n",
    "                flag = self.check_blend(res)\n",
    "                if (flag[0]) and self._check_dist(dists_tmp):\n",
    "                    blend_tmp = BLEND\n",
    "                else:\n",
    "                    blend_tmp = NO_BLEND\n",
    "            elif len(res) == true_nobj:\n",
    "                obj_pos += [[obj_pos[0][0] + obj['blend_param']['dx'][i], obj_pos[0][1] + obj['blend_param']['dy'][i]] for i in range(true_nobj-1)]\n",
    "                dists_tmp = self.get_dist(res, obj_pos)\n",
    "                flag = self.check_blend(res)\n",
    "                if self._check_dist(dists_tmp):\n",
    "                    blend_tmp = BLEND\n",
    "                else:\n",
    "                    if np.sum([1 if flag[i] and self._check_dist([dists_tmp[i]]) else 0 for i in range(true_nobj)], dtype=bool):\n",
    "                        blend = BLEND\n",
    "                    else:\n",
    "                        blend_tmp = NO_BLEND\n",
    "            else:\n",
    "                if obj['blended'] == True:\n",
    "                    obj_pos += [[obj_pos[0][0] + obj['blend_param']['dx'][i], obj_pos[0][1] + obj['blend_param']['dy'][i]] for i in range(true_nobj-1)]\n",
    "                dists_tmp = self.get_dist(res, obj_pos)\n",
    "                flag = self.check_blend(res)\n",
    "                n_good_dist = np.sum([1 if self._check_dist([dists_tmp[i]]) else 0 for i in range(true_nobj)], dtype=int)\n",
    "                if n_good_dist == true_nobj:\n",
    "                    blend_tmp = BLEND\n",
    "                elif n_good_dist > true_nobj:\n",
    "                    blend_tmp = MISS_EXTRACTION\n",
    "                elif np.sum([1 if flag[i] and self._check_dist([dists_tmp[i]]) else 0 for i in range(true_nobj)], dtype=bool):\n",
    "                    blend_tmp = BLEND\n",
    "                else:\n",
    "                    blend_tmp = NO_BLEND\n",
    "\n",
    "            blend_flag.append(blend_tmp)\n",
    "\n",
    "            all_res.append(res)\n",
    "        \n",
    "        return np.array(blend_flag), all_res\n",
    "    \n",
    "    @staticmethod\n",
    "    def get_estimated_sigma(img):\n",
    "        bkg = sep.Background(img)\n",
    "        sig_noise = bkg.globalrms\n",
    "\n",
    "        return sig_noise\n",
    "    \n",
    "\n",
    "    @staticmethod\n",
    "    def plot_sex_obj(res, img):\n",
    "        \"\"\" Plot SExtractor object\n",
    "\n",
    "        Plot contours where SExtractor find objects on top of the original\n",
    "        image.\n",
    "\n",
    "        Paramters\n",
    "        ---------\n",
    "        res : numpy.ndarray\n",
    "            Structure array return by sep.extract method for one object.\n",
    "        img : numpy.ndarray\n",
    "            Array containing the image.\n",
    "\n",
    "        \"\"\"\n",
    "\n",
    "        fig, ax = plt.subplots()\n",
    "        m, s = np.mean(img), np.std(img)\n",
    "        im = ax.imshow(img, interpolation='nearest', cmap='gray',\n",
    "                       vmin=m-s, vmax=m+s, origin='lower')\n",
    "\n",
    "        # plot an ellipse for each object\n",
    "        for i in range(len(res)):\n",
    "            e = Ellipse(xy=(res['x'][i], res['y'][i]),\n",
    "                        width=6*res['a'][i],\n",
    "                        height=6*res['b'][i],\n",
    "                        angle=res['theta'][i] * 180. / np.pi)\n",
    "            e.set_facecolor('none')\n",
    "            e.set_edgecolor('red')\n",
    "            ax.add_artist(e)\n",
    "        plt.show()"
   ]
  },
  {
   "cell_type": "markdown",
   "metadata": {},
   "source": [
    "# First test of SExtractor : 90% accuracy"
   ]
  },
  {
   "cell_type": "markdown",
   "metadata": {},
   "source": [
    "### Import 20 000 simulated images\n",
    "The dataset is composed by 10 000 blended images and 10 000 not blended images simulated on Galsim with a std deviation of noise at `14.5` "
   ]
  },
  {
   "cell_type": "code",
   "execution_count": 6,
   "metadata": {},
   "outputs": [],
   "source": [
    "path = '/Users/alacan/Documents/Cosmostat/Codes/BlendHunter/axel_sims'"
   ]
  },
  {
   "cell_type": "code",
   "execution_count": null,
   "metadata": {},
   "outputs": [],
   "source": [
    "#Getting the images\n",
    "blended = np.load(path + '/blended/gal_obj_0.npy', allow_pickle=True)\n",
    "not_blended = np.load(path + '/not_blended/gal_obj_0.npy', allow_pickle=True)"
   ]
  },
  {
   "cell_type": "markdown",
   "metadata": {},
   "source": [
    "### Run Sep on  10 000 blended images"
   ]
  },
  {
   "cell_type": "code",
   "execution_count": null,
   "metadata": {},
   "outputs": [],
   "source": [
    "runner = Run_Sep()\n",
    "flags, sep_res = runner.process(blended)"
   ]
  },
  {
   "cell_type": "code",
   "execution_count": 7,
   "metadata": {},
   "outputs": [
    {
     "name": "stdout",
     "output_type": "stream",
     "text": [
      "Blend accuracy : 89.41%\n",
      "Blend missed : 10.59%\n",
      "Wrongly identify (false positives): 0.00%\n"
     ]
    }
   ],
   "source": [
    "n_blend = len(np.where(flags == 1)[0])/len(flags)\n",
    "n_noblend = len(np.where(flags == 0)[0])/len(flags)\n",
    "n_miss = len(np.where(flags == 16)[0])/len(flags)\n",
    "\n",
    "print('Blend accuracy : {:.2f}%'.format(n_blend*100))\n",
    "print('Blend missed : {:.2f}%'.format(n_noblend*100))\n",
    "print('Wrongly identify (false positives): {:.2f}%'.format(n_miss*100))"
   ]
  },
  {
   "cell_type": "markdown",
   "metadata": {},
   "source": [
    "### Visualizing blend identification"
   ]
  },
  {
   "cell_type": "code",
   "execution_count": 71,
   "metadata": {},
   "outputs": [
    {
     "data": {
      "image/png": "[encoded data removed]",
      "text/plain": [
       "<Figure size 432x288 with 1 Axes>"
      ]
     },
     "metadata": {
      "needs_background": "light"
     },
     "output_type": "display_data"
    }
   ],
   "source": [
    "blend_id = np.where(flags == 1)[0][2889]\n",
    "runner.plot_sex_obj(sep_res[blend_id], blended[blend_id]['galsim_image'][0].array)"
   ]
  },
  {
   "cell_type": "code",
   "execution_count": 87,
   "metadata": {},
   "outputs": [
    {
     "data": {
      "image/png": "[encoded data removed]",
      "text/plain": [
       "<Figure size 432x288 with 1 Axes>"
      ]
     },
     "metadata": {
      "needs_background": "light"
     },
     "output_type": "display_data"
    }
   ],
   "source": [
    "no_blend_id = np.where(flags == 0)[0][1051]\n",
    "runner.plot_sex_obj(sep_res[no_blend_id], blended[no_blend_id]['galsim_image'][0].array)"
   ]
  },
  {
   "cell_type": "markdown",
   "metadata": {},
   "source": [
    "# Tests with more simulated data and evolution of Accuracy"
   ]
  },
  {
   "cell_type": "markdown",
   "metadata": {},
   "source": [
    "# 1. Test SExtractor on 80000 images ($\\sigma_{noise} = 0$)"
   ]
  },
  {
   "cell_type": "code",
   "execution_count": 6,
   "metadata": {},
   "outputs": [],
   "source": [
    "path = '/Users/alacan/Documents/Cosmostat/Codes/BlendHunter/axel_sims/larger_dataset'"
   ]
  },
  {
   "cell_type": "code",
   "execution_count": 7,
   "metadata": {},
   "outputs": [
    {
     "name": "stderr",
     "output_type": "stream",
     "text": [
      "WARNING: FITSFixedWarning: The WCS transformation has more axes (2) than the image it is associated with (0) [astropy.wcs.wcs]\n",
      "WARNING: FITSFixedWarning: 'datfix' made the change 'Invalid parameter values: MJD-OBS and DATE-OBS are inconsistent'. [astropy.wcs.wcs]\n"
     ]
    }
   ],
   "source": [
    "#Getting the images\n",
    "blended = np.load(path + '/blended/gal_obj_0.npy', allow_pickle=True)\n",
    "not_blended = np.load(path + '/not_blended/gal_obj_0.npy', allow_pickle=True)"
   ]
  },
  {
   "cell_type": "markdown",
   "metadata": {},
   "source": [
    "### Run SExtractor"
   ]
  },
  {
   "cell_type": "code",
   "execution_count": null,
   "metadata": {},
   "outputs": [],
   "source": [
    "#Careful to run Sep after retrieving the proper image ('galsim_image') and not 'galsim_image_noisy'.\n",
    "runner = Run_Sep()\n",
    "flags, sep_res = runner.process(blended)"
   ]
  },
  {
   "cell_type": "code",
   "execution_count": 15,
   "metadata": {},
   "outputs": [
    {
     "name": "stdout",
     "output_type": "stream",
     "text": [
      "Blend accuracy : 89.24%\n",
      "Blend missed : 10.76%\n",
      "Wrongly identify (false positives): 0.00%\n"
     ]
    }
   ],
   "source": [
    "n_blend = len(np.where(flags == 1)[0])/len(flags)\n",
    "n_noblend = len(np.where(flags == 0)[0])/len(flags)\n",
    "n_miss = len(np.where(flags == 16)[0])/len(flags)\n",
    "\n",
    "print('Blend accuracy : {:.2f}%'.format(n_blend*100))\n",
    "print('Blend missed : {:.2f}%'.format(n_noblend*100))\n",
    "print('Wrongly identify (false positives): {:.2f}%'.format(n_miss*100))"
   ]
  },
  {
   "cell_type": "markdown",
   "metadata": {},
   "source": [
    "#### We obtain an accuracy of `89.24% ` on blended images."
   ]
  },
  {
   "cell_type": "markdown",
   "metadata": {},
   "source": [
    "### Visualizing blend identification"
   ]
  },
  {
   "cell_type": "code",
   "execution_count": 77,
   "metadata": {},
   "outputs": [
    {
     "data": {
      "image/png": "[encoded data removed]",
      "text/plain": [
       "<Figure size 432x288 with 1 Axes>"
      ]
     },
     "metadata": {
      "needs_background": "light"
     },
     "output_type": "display_data"
    }
   ],
   "source": [
    "blend_id = np.where(flags == 1)[0][28]\n",
    "runner.plot_sex_obj(sep_res[blend_id], blended[blend_id]['galsim_image'][0].array)"
   ]
  },
  {
   "cell_type": "code",
   "execution_count": 78,
   "metadata": {
    "scrolled": false
   },
   "outputs": [
    {
     "data": {
      "image/png": "[encoded data removed]",
      "text/plain": [
       "<Figure size 432x288 with 1 Axes>"
      ]
     },
     "metadata": {
      "needs_background": "light"
     },
     "output_type": "display_data"
    }
   ],
   "source": [
    "no_blend_id = np.where(flags == 0)[0][4]\n",
    "runner.plot_sex_obj(sep_res[no_blend_id], blended[no_blend_id]['galsim_image'][0].array)"
   ]
  },
  {
   "cell_type": "markdown",
   "metadata": {},
   "source": [
    "# 2. Test SExtractor on 80000 images ($\\sigma_{noise} = 5$)"
   ]
  },
  {
   "cell_type": "code",
   "execution_count": 8,
   "metadata": {},
   "outputs": [],
   "source": [
    "path5 = '/Users/alacan/Documents/Cosmostat/Codes/BlendHunter/bh_5'\n",
    "path5_1 = '/Users/alacan/Documents/Cosmostat/Codes/BlendHunter/bh_5_1'\n",
    "path5_2 = '/Users/alacan/Documents/Cosmostat/Codes/BlendHunter/bh_5_2'\n",
    "path5_3 = '/Users/alacan/Documents/Cosmostat/Codes/BlendHunter/bh_5_3'\n",
    "path5_4 = '/Users/alacan/Documents/Cosmostat/Codes/BlendHunter/bh_5_4'"
   ]
  },
  {
   "cell_type": "code",
   "execution_count": 7,
   "metadata": {},
   "outputs": [],
   "source": [
    "def sep_results(path=None, sigma_val=None):\n",
    "    #Get images\n",
    "    blended_img = np.load(path + '/blended_noisy.npy', allow_pickle=True)\n",
    "    #Run SExtractor\n",
    "    runner = Run_Sep()\n",
    "    flags, sep_res = runner.process(blended_img)\n",
    "    #Display results\n",
    "    n_blend = len(np.where(flags == 1)[0])/len(flags)\n",
    "    n_noblend = len(np.where(flags == 0)[0])/len(flags)\n",
    "    n_miss = len(np.where(flags == 16)[0])/len(flags)\n",
    "    print('Blend accuracy : {}%'.format(n_blend*100))\n",
    "    \n",
    "    np.save('/Users/alacan/Documents/Cosmostat/Codes/BlendHunter/sep_results/flags_{}.npy'.format(sigma_val), flags)\n",
    "    \n",
    "    return n_blend"
   ]
  },
  {
   "cell_type": "markdown",
   "metadata": {},
   "source": [
    "### Extract images"
   ]
  },
  {
   "cell_type": "code",
   "execution_count": 11,
   "metadata": {},
   "outputs": [],
   "source": [
    "#Getting the images\n",
    "blended_5 = np.load(path5 + '/blended_noisy.npy', allow_pickle=True)"
   ]
  },
  {
   "cell_type": "markdown",
   "metadata": {},
   "source": [
    "### Run SExtractor"
   ]
  },
  {
   "cell_type": "code",
   "execution_count": 12,
   "metadata": {},
   "outputs": [],
   "source": [
    "runner5 = Run_Sep()\n",
    "flags5, sep_res5 = runner5.process(blended_5)"
   ]
  },
  {
   "cell_type": "code",
   "execution_count": 59,
   "metadata": {},
   "outputs": [
    {
     "name": "stdout",
     "output_type": "stream",
     "text": [
      "Blend accuracy 1st run : 88.8875%\n",
      "Blend missed : 11.11%\n",
      "Wrongly identify (false positives): 0.00%\n"
     ]
    }
   ],
   "source": [
    "n_blend5 = len(np.where(flags5 == 1)[0])/len(flags5)\n",
    "n_noblend5 = len(np.where(flags5 == 0)[0])/len(flags5)\n",
    "n_miss5 = len(np.where(flags5 == 16)[0])/len(flags5)\n",
    "\n",
    "print('Blend accuracy 1st run : {}%'.format(n_blend5*100))\n",
    "print('Blend missed : {:.2f}%'.format(n_noblend5*100))\n",
    "print('Wrongly identify (false positives): {:.2f}%'.format(n_miss5*100))"
   ]
  },
  {
   "cell_type": "code",
   "execution_count": 316,
   "metadata": {},
   "outputs": [
    {
     "name": "stdout",
     "output_type": "stream",
     "text": [
      "Mean of sigma_noise estimated by SExtractor : 5.6031572388291355\n"
     ]
    }
   ],
   "source": [
    "sigmas = [runner5.get_estimated_sigma(blended_5[img]['galsim_image_noisy']) for img in range(len(blended_5))]\n",
    "print('Mean of sigma_noise estimated by SExtractor : {}'.format(mean(sigmas)))"
   ]
  },
  {
   "cell_type": "markdown",
   "metadata": {},
   "source": [
    "#### We obtain an accuracy of `88.89% ` on blended images for a sigma_noise estimated at `5.603` by SExtractor."
   ]
  },
  {
   "cell_type": "markdown",
   "metadata": {},
   "source": [
    "### More noise realisations"
   ]
  },
  {
   "cell_type": "code",
   "execution_count": 58,
   "metadata": {},
   "outputs": [
    {
     "name": "stdout",
     "output_type": "stream",
     "text": [
      "Blend accuracy 2nd run : 88.815%\n",
      "Blend accuracy 3rd run : 88.82%\n",
      "Blend accuracy 4th run: 88.83250000000001%\n",
      "Blend accuracy 5th run: 88.81750000000001%\n"
     ]
    }
   ],
   "source": [
    "n_blend5_1 = len(np.where(flags5_1 == 1)[0])/len(flags5_1)\n",
    "n_blend5_2 = len(np.where(flags5_2 == 1)[0])/len(flags5_2)\n",
    "n_blend5_3 = len(np.where(flags5_3 == 1)[0])/len(flags5_3)\n",
    "n_blend5_4 = len(np.where(flags5_4 == 1)[0])/len(flags5_4)\n",
    "\n",
    "print('Blend accuracy 2nd run : {}%'.format(n_blend5_1*100))\n",
    "print('Blend accuracy 3rd run : {}%'.format(n_blend5_2*100))\n",
    "print('Blend accuracy 4th run: {}%'.format(n_blend5_3*100))\n",
    "print('Blend accuracy 5th run: {}%'.format(n_blend5_4*100))"
   ]
  },
  {
   "cell_type": "code",
   "execution_count": 11,
   "metadata": {},
   "outputs": [
    {
     "name": "stdout",
     "output_type": "stream",
     "text": [
      "Blend accuracy : 88.815%\n",
      "Blend accuracy : 88.82%\n",
      "Blend accuracy : 88.83250000000001%\n",
      "Blend accuracy : 88.81750000000001%\n"
     ]
    }
   ],
   "source": [
    "### List of paths\n",
    "paths5 = [path5_1, path5_2, path5_3, path5_4]\n",
    "sig5 = [5_1, 5_2, 5_3, 5_4]\n",
    "\n",
    "###RUNNING SEXTRACTOR FOR ALL NOISE REALISATIONS\n",
    "sep_results_5 = [sep_results(path=i, sigma_val=j) for i,j in zip(paths5, sig5)]"
   ]
  },
  {
   "cell_type": "code",
   "execution_count": 103,
   "metadata": {},
   "outputs": [
    {
     "name": "stdout",
     "output_type": "stream",
     "text": [
      "Blend accuracy : 88.80%\n",
      "Blend accuracy : 88.83%\n"
     ]
    }
   ],
   "source": [
    "path5_5 = '/Users/alacan/Documents/Cosmostat/Codes/BlendHunter/bh_5_5'\n",
    "path5_6 = '/Users/alacan/Documents/Cosmostat/Codes/BlendHunter/bh_5_6'\n",
    "\n",
    "### List of paths\n",
    "paths5 = [path5_5, path5_6]\n",
    "\n",
    "###RUNNING SEXTRACTOR FOR ALL NOISE REALISATIONS\n",
    "sep_results_5 = [sep_results(i) for i in paths5]"
   ]
  },
  {
   "cell_type": "markdown",
   "metadata": {},
   "source": [
    "### Visualizing blend identification"
   ]
  },
  {
   "cell_type": "code",
   "execution_count": 262,
   "metadata": {},
   "outputs": [
    {
     "data": {
      "image/png": "[encoded data removed]",
      "text/plain": [
       "<Figure size 432x288 with 1 Axes>"
      ]
     },
     "metadata": {
      "needs_background": "light"
     },
     "output_type": "display_data"
    }
   ],
   "source": [
    "blend_id5 = np.where(flags5 == 1)[0][28]\n",
    "runner5.plot_sex_obj(sep_res5[blend_id5], blended_5[blend_id5]['galsim_image_noisy'])"
   ]
  },
  {
   "cell_type": "code",
   "execution_count": 263,
   "metadata": {},
   "outputs": [
    {
     "data": {
      "image/png": "[encoded data removed]",
      "text/plain": [
       "<Figure size 432x288 with 1 Axes>"
      ]
     },
     "metadata": {
      "needs_background": "light"
     },
     "output_type": "display_data"
    }
   ],
   "source": [
    "no_blend_id5 = np.where(flags5 == 0)[0][4]\n",
    "runner5.plot_sex_obj(sep_res5[no_blend_id5], blended_5[no_blend_id5]['galsim_image_noisy'])"
   ]
  },
  {
   "cell_type": "markdown",
   "metadata": {},
   "source": [
    "# 3. Test SExtractor on 80000 images ($\\sigma_{noise} = 14.0$)"
   ]
  },
  {
   "cell_type": "code",
   "execution_count": 12,
   "metadata": {},
   "outputs": [],
   "source": [
    "path14 = '/Users/alacan/Documents/Cosmostat/Codes/BlendHunter/bh_14'\n",
    "path14_1 = '/Users/alacan/Documents/Cosmostat/Codes/BlendHunter/bh_14_1'\n",
    "path14_2 = '/Users/alacan/Documents/Cosmostat/Codes/BlendHunter/bh_14_2'\n",
    "path14_3 = '/Users/alacan/Documents/Cosmostat/Codes/BlendHunter/bh_14_3'\n",
    "path14_4 = '/Users/alacan/Documents/Cosmostat/Codes/BlendHunter/bh_14_4'"
   ]
  },
  {
   "cell_type": "markdown",
   "metadata": {},
   "source": [
    "### Extract images"
   ]
  },
  {
   "cell_type": "code",
   "execution_count": 14,
   "metadata": {},
   "outputs": [],
   "source": [
    "blended_14 = np.load(path14 + '/blended_noisy.npy', allow_pickle=True)"
   ]
  },
  {
   "cell_type": "markdown",
   "metadata": {},
   "source": [
    "### Run SExtractor"
   ]
  },
  {
   "cell_type": "code",
   "execution_count": 15,
   "metadata": {},
   "outputs": [],
   "source": [
    "runner14 = Run_Sep()"
   ]
  },
  {
   "cell_type": "code",
   "execution_count": 16,
   "metadata": {},
   "outputs": [],
   "source": [
    "flags14, sep_res14 = runner14.process(blended_14)"
   ]
  },
  {
   "cell_type": "code",
   "execution_count": 67,
   "metadata": {},
   "outputs": [
    {
     "name": "stdout",
     "output_type": "stream",
     "text": [
      "Blend accuracy 1st run: 89.29%\n",
      "Blend missed : 10.70%\n",
      "Wrongly identify (false positives): 0.01%\n"
     ]
    }
   ],
   "source": [
    "n_blend14 = len(np.where(flags14 == 1)[0])/len(flags14)\n",
    "n_noblend14 = len(np.where(flags14 == 0)[0])/len(flags14)\n",
    "n_miss14 = len(np.where(flags14 == 16)[0])/len(flags14)\n",
    "\n",
    "\n",
    "print('Blend accuracy 1st run: {:.2f}%'.format(n_blend14*100))\n",
    "print('Blend missed : {:.2f}%'.format(n_noblend14*100))\n",
    "print('Wrongly identify (false positives): {:.2f}%'.format(n_miss14*100))"
   ]
  },
  {
   "cell_type": "code",
   "execution_count": 323,
   "metadata": {},
   "outputs": [
    {
     "name": "stdout",
     "output_type": "stream",
     "text": [
      "Mean of sigma_noise estimated by SExtractor : 14.888967147684097\n"
     ]
    }
   ],
   "source": [
    "sigmas14 = [runner14.get_estimated_sigma(blended_14[img]['galsim_image_noisy']) for img in range(len(blended_14))]\n",
    "print('Mean of sigma_noise estimated by SExtractor : {}'.format(mean(sigmas14)))"
   ]
  },
  {
   "cell_type": "markdown",
   "metadata": {},
   "source": [
    "#### We obtain an accuracy of `89.29% ` on blended images for a sigma_noise estimated at `14.889` by SExtractor."
   ]
  },
  {
   "cell_type": "markdown",
   "metadata": {},
   "source": [
    "### More noise realisations"
   ]
  },
  {
   "cell_type": "code",
   "execution_count": 78,
   "metadata": {},
   "outputs": [
    {
     "name": "stdout",
     "output_type": "stream",
     "text": [
      "Blend accuracy 2nd run : 89.39%\n",
      "Blend accuracy 3rd run : 89.37%\n",
      "Blend accuracy 4th run : 89.42%\n",
      "Blend accuracy 5th run : 89.35%\n"
     ]
    }
   ],
   "source": [
    "n_blend14_1 = len(np.where(flags14_1 == 1)[0])/len(flags14_1)\n",
    "print('Blend accuracy 2nd run : {:.2f}%'.format(n_blend14_1*100))\n",
    "n_blend14_2 = len(np.where(flags14_2 == 1)[0])/len(flags14_2)\n",
    "print('Blend accuracy 3rd run : {:.2f}%'.format(n_blend14_2*100))\n",
    "n_blend14_3 = len(np.where(flags14_3 == 1)[0])/len(flags14_3)\n",
    "print('Blend accuracy 4th run : {:.2f}%'.format(n_blend14_3*100))\n",
    "n_blend14_4 = len(np.where(flags14_4 == 1)[0])/len(flags14_4)\n",
    "print('Blend accuracy 5th run : {:.2f}%'.format(n_blend14_4*100))"
   ]
  },
  {
   "cell_type": "code",
   "execution_count": 14,
   "metadata": {},
   "outputs": [
    {
     "name": "stdout",
     "output_type": "stream",
     "text": [
      "Blend accuracy : 89.39%\n",
      "Blend accuracy : 89.37%\n",
      "Blend accuracy : 89.415%\n",
      "Blend accuracy : 89.35499999999999%\n"
     ]
    }
   ],
   "source": [
    "### List of paths\n",
    "paths14 = [path14_1, path14_2, path14_3, path14_4]\n",
    "sig14 = [14_1, 14_2, 14_3, 14_4]\n",
    "\n",
    "###RUNNING SEXTRACTOR FOR ALL NOISE REALISATIONS\n",
    "sep_results_14 = [sep_results(path=i, sigma_val=j) for i,j in zip(paths14, sig14)]"
   ]
  },
  {
   "cell_type": "markdown",
   "metadata": {},
   "source": [
    "### Visualizing blend identification"
   ]
  },
  {
   "cell_type": "code",
   "execution_count": 180,
   "metadata": {
    "scrolled": true
   },
   "outputs": [
    {
     "data": {
      "image/png": "[encoded data removed]",
      "text/plain": [
       "<Figure size 432x288 with 1 Axes>"
      ]
     },
     "metadata": {
      "needs_background": "light"
     },
     "output_type": "display_data"
    }
   ],
   "source": [
    "blend_id14 = np.where(flags14 == 1)[0][28]\n",
    "runner14.plot_sex_obj(sep_res14[blend_id14], blended_14[blend_id14]['galsim_image_noisy'])"
   ]
  },
  {
   "cell_type": "code",
   "execution_count": 182,
   "metadata": {
    "scrolled": true
   },
   "outputs": [
    {
     "data": {
      "image/png": "[encoded data removed]",
      "text/plain": [
       "<Figure size 432x288 with 1 Axes>"
      ]
     },
     "metadata": {
      "needs_background": "light"
     },
     "output_type": "display_data"
    }
   ],
   "source": [
    "no_blend_id14 = np.where(flags14 == 0)[0][4]\n",
    "runner14.plot_sex_obj(sep_res14[no_blend_id14], blended_14[no_blend_id14]['galsim_image_noisy'])"
   ]
  },
  {
   "cell_type": "markdown",
   "metadata": {},
   "source": [
    "# 4. Test SExtractor on 80 000 images ($\\sigma_{noise} = 18.0$)"
   ]
  },
  {
   "cell_type": "code",
   "execution_count": 15,
   "metadata": {},
   "outputs": [],
   "source": [
    "path18 = '/Users/alacan/Documents/Cosmostat/Codes/BlendHunter/bh_18'\n",
    "path18_1 = '/Users/alacan/Documents/Cosmostat/Codes/BlendHunter/bh_18_1'\n",
    "path18_2 = '/Users/alacan/Documents/Cosmostat/Codes/BlendHunter/bh_18_2'\n",
    "path18_3 = '/Users/alacan/Documents/Cosmostat/Codes/BlendHunter/bh_18_3'\n",
    "path18_4 = '/Users/alacan/Documents/Cosmostat/Codes/BlendHunter/bh_18_4'"
   ]
  },
  {
   "cell_type": "code",
   "execution_count": 18,
   "metadata": {},
   "outputs": [],
   "source": [
    "blended_18 = np.load(path18 + '/blended_noisy.npy', allow_pickle=True)"
   ]
  },
  {
   "cell_type": "markdown",
   "metadata": {},
   "source": [
    "### Run SExtractor"
   ]
  },
  {
   "cell_type": "code",
   "execution_count": 19,
   "metadata": {},
   "outputs": [],
   "source": [
    "runner18 = Run_Sep()\n",
    "flags18, sep_res18 = runner18.process(blended_18)"
   ]
  },
  {
   "cell_type": "code",
   "execution_count": 325,
   "metadata": {},
   "outputs": [
    {
     "name": "stdout",
     "output_type": "stream",
     "text": [
      "Blend accuracy : 88.31%\n",
      "Blend missed : 11.65%\n",
      "Wrongly identify (false positives): 0.03%\n"
     ]
    }
   ],
   "source": [
    "n_blend18 = len(np.where(flags18 == 1)[0])/len(flags18)\n",
    "n_noblend18 = len(np.where(flags18 == 0)[0])/len(flags18)\n",
    "n_miss18 = len(np.where(flags18 == 16)[0])/len(flags18)\n",
    "\n",
    "\n",
    "print('Blend accuracy : {:.2f}%'.format(n_blend18*100))\n",
    "print('Blend missed : {:.2f}%'.format(n_noblend18*100))\n",
    "print('Wrongly identify (false positives): {:.2f}%'.format(n_miss18*100))"
   ]
  },
  {
   "cell_type": "code",
   "execution_count": 326,
   "metadata": {},
   "outputs": [
    {
     "name": "stdout",
     "output_type": "stream",
     "text": [
      "Mean of sigma_noise estimated by SExtractor : 18.97820894675255\n"
     ]
    }
   ],
   "source": [
    "sigmas18 = [runner18.get_estimated_sigma(blended_18[img]['galsim_image_noisy']) for img in range(len(blended_18))]\n",
    "print('Mean of sigma_noise estimated by SExtractor : {}'.format(mean(sigmas18)))"
   ]
  },
  {
   "cell_type": "markdown",
   "metadata": {},
   "source": [
    "#### We obtain an accuracy of `88.31% ` on blended images for a sigma_noise estimated at `18.978` by SExtractor."
   ]
  },
  {
   "cell_type": "code",
   "execution_count": 86,
   "metadata": {},
   "outputs": [
    {
     "name": "stdout",
     "output_type": "stream",
     "text": [
      "Blend accuracy 2nd run : 88.1875%\n",
      "Blend accuracy 3rd run : 88.31%\n"
     ]
    }
   ],
   "source": [
    "n_blend18_1 = len(np.where(flags18_1 == 1)[0])/len(flags18_1)\n",
    "print('Blend accuracy 2nd run : {}%'.format(n_blend18_1*100))\n",
    "n_blend18_2 = len(np.where(flags18_2 == 1)[0])/len(flags18_2)\n",
    "print('Blend accuracy 3rd run : {}%'.format(n_blend18_2*100))"
   ]
  },
  {
   "cell_type": "markdown",
   "metadata": {},
   "source": [
    "### More noise realisation"
   ]
  },
  {
   "cell_type": "code",
   "execution_count": 16,
   "metadata": {},
   "outputs": [
    {
     "name": "stdout",
     "output_type": "stream",
     "text": [
      "Blend accuracy : 88.1875%\n",
      "Blend accuracy : 88.31%\n",
      "Blend accuracy : 88.31%\n",
      "Blend accuracy : 88.2575%\n"
     ]
    }
   ],
   "source": [
    "###RUNNING SEXTRACTOR FOR ALL NOISE REALISATIONS\n",
    "### List of paths\n",
    "paths18 = [path18_1, path18_2, path18_3, path18_4]\n",
    "sig18 = [18_1, 18_2, 18_3, 18_4]\n",
    "\n",
    "###RUNNING SEXTRACTOR FOR ALL NOISE REALISATIONS\n",
    "sep_results_18 = [sep_results(path=i, sigma_val=j) for i,j in zip(paths18, sig18)]"
   ]
  },
  {
   "cell_type": "markdown",
   "metadata": {},
   "source": [
    "### Visualizing blend identification"
   ]
  },
  {
   "cell_type": "code",
   "execution_count": 249,
   "metadata": {},
   "outputs": [
    {
     "data": {
      "text/plain": [
       "<Figure size 432x288 with 0 Axes>"
      ]
     },
     "metadata": {},
     "output_type": "display_data"
    },
    {
     "data": {
      "image/png": "[encoded data removed]",
      "text/plain": [
       "<Figure size 432x288 with 1 Axes>"
      ]
     },
     "metadata": {
      "needs_background": "light"
     },
     "output_type": "display_data"
    }
   ],
   "source": [
    "blend_id18 = np.where(flags18 == 1)[0][28]\n",
    "fig2 = plt.figure()\n",
    "runner18.plot_sex_obj(sep_res18[blend_id18], blended_18[blend_id18]['galsim_image_noisy'])\n",
    "fig2.savefig('blend18.png')   # save the figure to file"
   ]
  },
  {
   "cell_type": "code",
   "execution_count": 186,
   "metadata": {
    "scrolled": true
   },
   "outputs": [
    {
     "data": {
      "image/png": "[encoded data removed]",
      "text/plain": [
       "<Figure size 432x288 with 1 Axes>"
      ]
     },
     "metadata": {
      "needs_background": "light"
     },
     "output_type": "display_data"
    }
   ],
   "source": [
    "no_blend_id18 = np.where(flags18 == 0)[0][4]\n",
    "runner18.plot_sex_obj(sep_res18[no_blend_id18], blended_18[no_blend_id18]['galsim_image_noisy'])"
   ]
  },
  {
   "cell_type": "markdown",
   "metadata": {},
   "source": [
    "# 5. Test SExtractor on 80000 images ($\\sigma_{noise} = 26.0$)"
   ]
  },
  {
   "cell_type": "code",
   "execution_count": 17,
   "metadata": {},
   "outputs": [],
   "source": [
    "path26 = '/Users/alacan/Documents/Cosmostat/Codes/BlendHunter/bh_26'\n",
    "path26_1 = '/Users/alacan/Documents/Cosmostat/Codes/BlendHunter/bh_26_1'\n",
    "path26_2 = '/Users/alacan/Documents/Cosmostat/Codes/BlendHunter/bh_26_2'\n",
    "path26_3 = '/Users/alacan/Documents/Cosmostat/Codes/BlendHunter/bh_26_3'\n",
    "path26_4 = '/Users/alacan/Documents/Cosmostat/Codes/BlendHunter/bh_26_4'"
   ]
  },
  {
   "cell_type": "code",
   "execution_count": 21,
   "metadata": {},
   "outputs": [
    {
     "data": {
      "text/plain": [
       "(40000,)"
      ]
     },
     "execution_count": 21,
     "metadata": {},
     "output_type": "execute_result"
    }
   ],
   "source": [
    "blended_26 = np.load(path26 + '/blended_noisy.npy', allow_pickle=True)\n",
    "blended_26.shape"
   ]
  },
  {
   "cell_type": "markdown",
   "metadata": {},
   "source": [
    "### Run SExtractor"
   ]
  },
  {
   "cell_type": "code",
   "execution_count": 22,
   "metadata": {},
   "outputs": [],
   "source": [
    "runner26 = Run_Sep()\n",
    "flags26, sep_res26 = runner26.process(blended_26)"
   ]
  },
  {
   "cell_type": "code",
   "execution_count": 328,
   "metadata": {
    "scrolled": true
   },
   "outputs": [
    {
     "name": "stdout",
     "output_type": "stream",
     "text": [
      "Blend accuracy : 79.88%\n",
      "Blend missed : 19.86%\n",
      "Wrongly identify (false positives): 0.26%\n"
     ]
    }
   ],
   "source": [
    "n_blend26 = len(np.where(flags26 == 1)[0])/len(flags26)\n",
    "n_noblend26 = len(np.where(flags26 == 0)[0])/len(flags26)\n",
    "n_miss26 = len(np.where(flags26 == 16)[0])/len(flags26)\n",
    "\n",
    "\n",
    "print('Blend accuracy : {:.2f}%'.format(n_blend26*100))\n",
    "print('Blend missed : {:.2f}%'.format(n_noblend26*100))\n",
    "print('Wrongly identify (false positives): {:.2f}%'.format(n_miss26*100))"
   ]
  },
  {
   "cell_type": "code",
   "execution_count": 329,
   "metadata": {},
   "outputs": [
    {
     "name": "stdout",
     "output_type": "stream",
     "text": [
      "Mean of sigma_noise estimated by SExtractor : 27.10144787106514\n"
     ]
    }
   ],
   "source": [
    "sigmas26 = [runner26.get_estimated_sigma(blended_26[img]['galsim_image_noisy']) for img in range(len(blended_26))]\n",
    "print('Mean of sigma_noise estimated by SExtractor : {}'.format(mean(sigmas26)))"
   ]
  },
  {
   "cell_type": "markdown",
   "metadata": {},
   "source": [
    "#### We obtain an accuracy of `79.88% ` on blended images for a sigma_noise estimated at `27.101` by SExtractor."
   ]
  },
  {
   "cell_type": "markdown",
   "metadata": {},
   "source": [
    "### Visualizing blend identification"
   ]
  },
  {
   "cell_type": "code",
   "execution_count": 265,
   "metadata": {
    "scrolled": true
   },
   "outputs": [
    {
     "data": {
      "text/plain": [
       "<Figure size 432x288 with 0 Axes>"
      ]
     },
     "metadata": {},
     "output_type": "display_data"
    },
    {
     "data": {
      "image/png": "[encoded data removed]",
      "text/plain": [
       "<Figure size 432x288 with 1 Axes>"
      ]
     },
     "metadata": {
      "needs_background": "light"
     },
     "output_type": "display_data"
    }
   ],
   "source": [
    "blend_id26 = np.where(flags26 == 1)[0][28]\n",
    "fig3 = plt.figure()\n",
    "runner26.plot_sex_obj(sep_res26[blend_id26], blended_26[blend_id26]['galsim_image_noisy'])\n",
    "fig3.savefig('blend26.png')   # save the figure to file"
   ]
  },
  {
   "cell_type": "code",
   "execution_count": 272,
   "metadata": {
    "scrolled": true
   },
   "outputs": [
    {
     "data": {
      "image/png": "[encoded data removed]",
      "text/plain": [
       "<Figure size 432x288 with 1 Axes>"
      ]
     },
     "metadata": {
      "needs_background": "light"
     },
     "output_type": "display_data"
    }
   ],
   "source": [
    "no_blend_id26 = np.where(flags26 == 0)[0][4]\n",
    "runner26.plot_sex_obj(sep_res26[no_blend_id26], blended_26[no_blend_id26]['galsim_image_noisy'])"
   ]
  },
  {
   "cell_type": "markdown",
   "metadata": {},
   "source": [
    "### More noise realisations"
   ]
  },
  {
   "cell_type": "code",
   "execution_count": 18,
   "metadata": {},
   "outputs": [
    {
     "name": "stdout",
     "output_type": "stream",
     "text": [
      "Blend accuracy : 79.71000000000001%\n",
      "Blend accuracy : 79.91%\n",
      "Blend accuracy : 79.965%\n",
      "Blend accuracy : 79.7%\n"
     ]
    }
   ],
   "source": [
    "### List of paths\n",
    "paths26 = [path26_1, path26_2, path26_3, path26_4]\n",
    "sig26 = [26_1, 26_2, 26_3, 26_4]\n",
    "###RUNNING SEXTRACTOR FOR ALL NOISE REALISATIONS\n",
    "sep_results_26 = [sep_results(path=i, sigma_val=j) for i,j in zip(paths26, sig26)]"
   ]
  },
  {
   "cell_type": "markdown",
   "metadata": {},
   "source": [
    "# 6. Test SExtractor on 80000 images ($\\sigma_{noise} = 35.0$)"
   ]
  },
  {
   "cell_type": "code",
   "execution_count": 23,
   "metadata": {},
   "outputs": [
    {
     "data": {
      "text/plain": [
       "(40000,)"
      ]
     },
     "execution_count": 23,
     "metadata": {},
     "output_type": "execute_result"
    }
   ],
   "source": [
    "path35 = '/Users/alacan/Documents/Cosmostat/Codes/BlendHunter/bh_35'\n",
    "\n",
    "blended_35 = np.load(path35 + '/blended_noisy.npy', allow_pickle=True)\n",
    "blended_35.shape"
   ]
  },
  {
   "cell_type": "code",
   "execution_count": 24,
   "metadata": {},
   "outputs": [],
   "source": [
    "### Run Sextractor\n",
    "\n",
    "runner35 = Run_Sep()\n",
    "flags35, sep_res35 = runner35.process(blended_35)\n",
    "\n",
    "n_blend35 = len(np.where(flags35 == 1)[0])/len(flags35)\n",
    "n_noblend35 = len(np.where(flags35 == 0)[0])/len(flags35)\n",
    "n_miss35 = len(np.where(flags35 == 16)[0])/len(flags35)"
   ]
  },
  {
   "cell_type": "code",
   "execution_count": 338,
   "metadata": {},
   "outputs": [
    {
     "name": "stdout",
     "output_type": "stream",
     "text": [
      "Blend accuracy : 63.28%\n",
      "Blend missed : 34.87%\n",
      "Wrongly identify (false positives): 1.85%\n"
     ]
    }
   ],
   "source": [
    "print('Blend accuracy : {:.2f}%'.format(n_blend35*100))\n",
    "print('Blend missed : {:.2f}%'.format(n_noblend35*100))\n",
    "print('Wrongly identify (false positives): {:.2f}%'.format(n_miss35*100))"
   ]
  },
  {
   "cell_type": "code",
   "execution_count": 339,
   "metadata": {},
   "outputs": [
    {
     "name": "stdout",
     "output_type": "stream",
     "text": [
      "Mean of sigma_noise estimated by SExtractor : 36.17021199131012\n"
     ]
    }
   ],
   "source": [
    "sigmas35 = [runner35.get_estimated_sigma(blended_35[img]['galsim_image_noisy']) for img in range(len(blended_35))]\n",
    "print('Mean of sigma_noise estimated by SExtractor : {}'.format(mean(sigmas35)))"
   ]
  },
  {
   "cell_type": "markdown",
   "metadata": {},
   "source": [
    "#### We obtain an accuracy of `63.09% ` on blended images for a sigma_noise estimated at `36.170` by SExtractor."
   ]
  },
  {
   "cell_type": "markdown",
   "metadata": {},
   "source": [
    "### Visualizing blend identification"
   ]
  },
  {
   "cell_type": "code",
   "execution_count": 279,
   "metadata": {},
   "outputs": [
    {
     "data": {
      "text/plain": [
       "<Figure size 432x288 with 0 Axes>"
      ]
     },
     "metadata": {},
     "output_type": "display_data"
    },
    {
     "data": {
      "image/png": "[encoded data removed]",
      "text/plain": [
       "<Figure size 432x288 with 1 Axes>"
      ]
     },
     "metadata": {
      "needs_background": "light"
     },
     "output_type": "display_data"
    }
   ],
   "source": [
    "blend_id35 = np.where(flags35 == 1)[0][28]\n",
    "fig4 = plt.figure()\n",
    "runner35.plot_sex_obj(sep_res35[blend_id35], blended_35[blend_id35]['galsim_image_noisy'])\n",
    "fig3.savefig('blend35.png')   # save the figure to file"
   ]
  },
  {
   "cell_type": "code",
   "execution_count": 280,
   "metadata": {
    "scrolled": true
   },
   "outputs": [
    {
     "data": {
      "image/png": "[encoded data removed]",
      "text/plain": [
       "<Figure size 432x288 with 1 Axes>"
      ]
     },
     "metadata": {
      "needs_background": "light"
     },
     "output_type": "display_data"
    }
   ],
   "source": [
    "no_blend_id35 = np.where(flags35 == 0)[0][4]\n",
    "runner35.plot_sex_obj(sep_res35[no_blend_id35], blended_35[no_blend_id35]['galsim_image_noisy'])"
   ]
  },
  {
   "cell_type": "markdown",
   "metadata": {},
   "source": [
    "### More noise realisations"
   ]
  },
  {
   "cell_type": "code",
   "execution_count": 19,
   "metadata": {},
   "outputs": [],
   "source": [
    "path35 = '/Users/alacan/Documents/Cosmostat/Codes/BlendHunter/bh_35'\n",
    "path35_1 = '/Users/alacan/Documents/Cosmostat/Codes/BlendHunter/bh_35_1'\n",
    "path35_2 = '/Users/alacan/Documents/Cosmostat/Codes/BlendHunter/bh_35_2'\n",
    "path35_3 = '/Users/alacan/Documents/Cosmostat/Codes/BlendHunter/bh_35_3'\n",
    "path35_4 = '/Users/alacan/Documents/Cosmostat/Codes/BlendHunter/bh_35_4'"
   ]
  },
  {
   "cell_type": "code",
   "execution_count": 20,
   "metadata": {},
   "outputs": [
    {
     "name": "stdout",
     "output_type": "stream",
     "text": [
      "Blend accuracy : 62.885000000000005%\n",
      "Blend accuracy : 63.154999999999994%\n",
      "Blend accuracy : 62.9125%\n",
      "Blend accuracy : 62.957499999999996%\n"
     ]
    }
   ],
   "source": [
    "### List of paths\n",
    "paths35 = [path35_1, path35_2, path35_3, path35_4]\n",
    "sig35 = [35_1, 35_2, 35_3, 35_4]\n",
    "###RUNNING SEXTRACTOR FOR ALL NOISE REALISATIONS\n",
    "sep_results_35 = [sep_results(path=i, sigma_val=j) for i,j in zip(paths35, sig35)]"
   ]
  },
  {
   "cell_type": "markdown",
   "metadata": {},
   "source": [
    "# 7. Test SExtractor on 80 000 images ($\\sigma_{noise} = 40.0$)"
   ]
  },
  {
   "cell_type": "code",
   "execution_count": 25,
   "metadata": {},
   "outputs": [
    {
     "data": {
      "text/plain": [
       "(40000,)"
      ]
     },
     "execution_count": 25,
     "metadata": {},
     "output_type": "execute_result"
    }
   ],
   "source": [
    "path40 = '/Users/alacan/Documents/Cosmostat/Codes/BlendHunter/bh_40'\n",
    "\n",
    "blended_40 = np.load(path40 + '/blended_noisy.npy', allow_pickle=True)\n",
    "blended_40.shape"
   ]
  },
  {
   "cell_type": "markdown",
   "metadata": {},
   "source": [
    "### Run SExtractor"
   ]
  },
  {
   "cell_type": "code",
   "execution_count": 26,
   "metadata": {},
   "outputs": [],
   "source": [
    "runner40 = Run_Sep()\n",
    "flags40, sep_res40 = runner40.process(blended_40)"
   ]
  },
  {
   "cell_type": "code",
   "execution_count": 113,
   "metadata": {},
   "outputs": [
    {
     "data": {
      "text/plain": [
       "(40000,)"
      ]
     },
     "execution_count": 113,
     "metadata": {},
     "output_type": "execute_result"
    }
   ],
   "source": [
    "flags40.shape"
   ]
  },
  {
   "cell_type": "code",
   "execution_count": 112,
   "metadata": {},
   "outputs": [
    {
     "name": "stdout",
     "output_type": "stream",
     "text": [
      "Blend accuracy : 53.25%\n",
      "Blend missed : 42.78%\n",
      "Wrongly identify : 3.97%\n",
      "Mean of sigma_noise estimated by SExtractor : 41.17211955661774\n"
     ]
    }
   ],
   "source": [
    "n_blend40 = len(np.where(flags40 == 1)[0])/len(flags40)\n",
    "n_noblend40 = len(np.where(flags40 == 0)[0])/len(flags40)\n",
    "n_miss40 = len(np.where(flags40 == 16)[0])/len(flags40)\n",
    "\n",
    "print('Blend accuracy : {:.2f}%'.format(n_blend40*100))\n",
    "print('Blend missed : {:.2f}%'.format(n_noblend40*100))\n",
    "print('Wrongly identify : {:.2f}%'.format(n_miss40*100))\n",
    "\n",
    "sigmas40 = [runner40.get_estimated_sigma(blended_40[img]['galsim_image_noisy']) for img in range(len(blended_40))]\n",
    "print('Mean of sigma_noise estimated by SExtractor : {}'.format(mean(sigmas40)))"
   ]
  },
  {
   "cell_type": "markdown",
   "metadata": {},
   "source": [
    "#### We obtain an accuracy of `53.25% ` on blended images for a sigma_noise estimated at ` 41.172` by SExtractor."
   ]
  },
  {
   "cell_type": "markdown",
   "metadata": {},
   "source": [
    "### Visualizing blend identification"
   ]
  },
  {
   "cell_type": "code",
   "execution_count": 340,
   "metadata": {},
   "outputs": [
    {
     "data": {
      "image/png": "[encoded data removed]",
      "text/plain": [
       "<Figure size 432x288 with 1 Axes>"
      ]
     },
     "metadata": {
      "needs_background": "light"
     },
     "output_type": "display_data"
    }
   ],
   "source": [
    "blend_id40 = np.where(flags40 == 1)[0][28]\n",
    "runner40.plot_sex_obj(sep_res40[blend_id40], blended_40[blend_id40]['galsim_image_noisy'])"
   ]
  },
  {
   "cell_type": "code",
   "execution_count": 341,
   "metadata": {},
   "outputs": [
    {
     "data": {
      "image/png": "[encoded data removed]",
      "text/plain": [
       "<Figure size 432x288 with 1 Axes>"
      ]
     },
     "metadata": {
      "needs_background": "light"
     },
     "output_type": "display_data"
    }
   ],
   "source": [
    "no_blend_id40 = np.where(flags40 == 0)[0][4]\n",
    "runner40.plot_sex_obj(sep_res40[no_blend_id40], blended_40[no_blend_id40]['galsim_image_noisy'])"
   ]
  },
  {
   "cell_type": "markdown",
   "metadata": {},
   "source": [
    "### More noise realisations"
   ]
  },
  {
   "cell_type": "code",
   "execution_count": 21,
   "metadata": {},
   "outputs": [
    {
     "name": "stdout",
     "output_type": "stream",
     "text": [
      "Blend accuracy : 53.4625%\n",
      "Blend accuracy : 53.225%\n",
      "Blend accuracy : 53.42750000000001%\n",
      "Blend accuracy : 53.3225%\n"
     ]
    }
   ],
   "source": [
    "path40_1 = '/Users/alacan/Documents/Cosmostat/Codes/BlendHunter/bh_40_1'\n",
    "path40_2 = '/Users/alacan/Documents/Cosmostat/Codes/BlendHunter/bh_40_2'\n",
    "path40_3 = '/Users/alacan/Documents/Cosmostat/Codes/BlendHunter/bh_40_3'\n",
    "path40_4 = '/Users/alacan/Documents/Cosmostat/Codes/BlendHunter/bh_40_4'\n",
    "\n",
    "\n",
    "### List of paths\n",
    "paths40 = [path40_1, path40_2, path40_3, path40_4]\n",
    "sig40= [40_1, 40_2, 40_3, 40_4]\n",
    "###RUNNING SEXTRACTOR FOR ALL NOISE REALISATIONS\n",
    "sep_results_40 = [sep_results(path=i, sigma_val=j) for i,j in zip(paths40, sig40)]"
   ]
  },
  {
   "cell_type": "code",
   "execution_count": 129,
   "metadata": {},
   "outputs": [
    {
     "data": {
      "text/plain": [
       "array([1, 1, 1, ..., 0, 1, 1])"
      ]
     },
     "execution_count": 129,
     "metadata": {},
     "output_type": "execute_result"
    }
   ],
   "source": [
    "flags5"
   ]
  },
  {
   "cell_type": "code",
   "execution_count": 130,
   "metadata": {},
   "outputs": [
    {
     "data": {
      "text/plain": [
       "array([1, 1, 1, ..., 0, 1, 1])"
      ]
     },
     "execution_count": 130,
     "metadata": {},
     "output_type": "execute_result"
    }
   ],
   "source": [
    "flags14"
   ]
  },
  {
   "cell_type": "code",
   "execution_count": 131,
   "metadata": {},
   "outputs": [
    {
     "data": {
      "text/plain": [
       "array([1, 1, 1, ..., 0, 1, 1])"
      ]
     },
     "execution_count": 131,
     "metadata": {},
     "output_type": "execute_result"
    }
   ],
   "source": [
    "flags18"
   ]
  },
  {
   "cell_type": "code",
   "execution_count": 132,
   "metadata": {},
   "outputs": [
    {
     "data": {
      "text/plain": [
       "array([0, 1, 1, ..., 0, 1, 0])"
      ]
     },
     "execution_count": 132,
     "metadata": {},
     "output_type": "execute_result"
    }
   ],
   "source": [
    "flags26"
   ]
  },
  {
   "cell_type": "code",
   "execution_count": 133,
   "metadata": {},
   "outputs": [
    {
     "data": {
      "text/plain": [
       "array([0, 0, 1, ..., 0, 1, 0])"
      ]
     },
     "execution_count": 133,
     "metadata": {},
     "output_type": "execute_result"
    }
   ],
   "source": [
    "flags35"
   ]
  },
  {
   "cell_type": "code",
   "execution_count": 151,
   "metadata": {},
   "outputs": [
    {
     "data": {
      "text/plain": [
       "array([ 0,  0,  1, ...,  0,  1, 16])"
      ]
     },
     "execution_count": 151,
     "metadata": {},
     "output_type": "execute_result"
    }
   ],
   "source": [
    "flags40.transpose()"
   ]
  },
  {
   "cell_type": "code",
   "execution_count": 29,
   "metadata": {},
   "outputs": [],
   "source": [
    "f40=flags40.reshape(40000,1)"
   ]
  },
  {
   "cell_type": "code",
   "execution_count": 30,
   "metadata": {},
   "outputs": [
    {
     "data": {
      "text/plain": [
       "(1, 40000)"
      ]
     },
     "execution_count": 30,
     "metadata": {},
     "output_type": "execute_result"
    }
   ],
   "source": [
    "f40 = f40.transpose()\n",
    "f40.shape"
   ]
  },
  {
   "cell_type": "code",
   "execution_count": 34,
   "metadata": {},
   "outputs": [],
   "source": [
    "np.save('/Users/alacan/Documents/Cosmostat/Codes/Blendhunter/SExt_results/flags5.npy', flags5)\n",
    "np.save('/Users/alacan/Documents/Cosmostat/Codes/Blendhunter/SExt_results/flags14.npy', flags14)\n",
    "np.save('/Users/alacan/Documents/Cosmostat/Codes/Blendhunter/SExt_results/flags18.npy', flags18)\n",
    "np.save('/Users/alacan/Documents/Cosmostat/Codes/Blendhunter/SExt_results/flags26.npy', flags26)\n",
    "np.save('/Users/alacan/Documents/Cosmostat/Codes/Blendhunter/SExt_results/flags35.npy', flags35)\n",
    "np.save('/Users/alacan/Documents/Cosmostat/Codes/Blendhunter/SExt_results/flags40.npy', flags40)"
   ]
  },
  {
   "cell_type": "code",
   "execution_count": null,
   "metadata": {},
   "outputs": [],
   "source": []
  }
 ],
 "metadata": {
  "kernelspec": {
   "display_name": "Python 3",
   "language": "python",
   "name": "python3"
  },
  "language_info": {
   "codemirror_mode": {
    "name": "ipython",
    "version": 3
   },
   "file_extension": ".py",
   "mimetype": "text/x-python",
   "name": "python",
   "nbconvert_exporter": "python",
   "pygments_lexer": "ipython3",
   "version": "3.7.3"
  }
 },
 "nbformat": 4,
 "nbformat_minor": 2
}

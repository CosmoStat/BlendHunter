{
 "cells": [
  {
   "cell_type": "markdown",
   "metadata": {},
   "source": [
    "# Visualisation of blends missed by BH"
   ]
  },
  {
   "cell_type": "code",
   "execution_count": 115,
   "metadata": {},
   "outputs": [],
   "source": [
    "import numpy as np\n",
    "import pandas as pd\n",
    "import matplotlib.pyplot as plt\n",
    "import matplotlib.image as mimage\n",
    "import seaborn as sns"
   ]
  },
  {
   "cell_type": "markdown",
   "metadata": {},
   "source": [
    "## Import dataset (errors for sigma_noise=0)"
   ]
  },
  {
   "cell_type": "code",
   "execution_count": 52,
   "metadata": {},
   "outputs": [],
   "source": [
    "errors0 = pd.read_csv('/Users/alacan/Documents/Cosmostat/Codes/BlendHunter/bh_missed_blends0.csv',  index_col=0)"
   ]
  },
  {
   "cell_type": "code",
   "execution_count": 91,
   "metadata": {},
   "outputs": [],
   "source": [
    "## Create dataset of separated objects (distance>20)\n",
    "dist= errors0.apply(lambda x: True if x['Distance'] > 20.0 else False , axis=1)\n",
    "sep_objects = pd.merge(pd.DataFrame(dist[dist==True]), errors0, how='inner', left_index=True, right_index=True, sort=True, copy=True, indicator=False)\n",
    "## Create dataset of close objects (distance<20)\n",
    "mid= errors0.apply(lambda x: True if 6.0 < x['Distance'] < 20.0 else False , axis=1)\n",
    "cls= errors0.apply(lambda x: True if x['Distance'] <= 6.0 else False , axis=1)\n",
    "close_objects = pd.merge(pd.DataFrame(mid[mid==True]), errors0, how='inner', left_index=True, right_index=True, sort=True, copy=True, indicator=False)\n",
    "overlaps_objects = pd.merge(pd.DataFrame(cls[cls==True]), errors0, how='inner', left_index=True, right_index=True, sort=True, copy=True, indicator=False)"
   ]
  },
  {
   "cell_type": "markdown",
   "metadata": {},
   "source": [
    "## Import blended test images in dict (for sigma_noise=0)"
   ]
  },
  {
   "cell_type": "code",
   "execution_count": 92,
   "metadata": {},
   "outputs": [
    {
     "name": "stdout",
     "output_type": "stream",
     "text": [
      "There are 4000 test images in the dictionary.\n"
     ]
    }
   ],
   "source": [
    "path = \"/Users/alacan/Documents/Cosmostat/Codes/BlendHunter/bh/BlendHunterData/test/test/image_\"\n",
    "\n",
    "blends_dict = dict()\n",
    "for i in range(72000, 76000):\n",
    "    blends_dict.update({str(i) : mimage.imread(path + str(i) + \".png\")})\n",
    "\n",
    "print('There are '+str(len(blends_dict))+' test images in the dictionary.')"
   ]
  },
  {
   "cell_type": "markdown",
   "metadata": {},
   "source": [
    "## Visualize missed blends on separated objects ( $Distance > 20.0$ )"
   ]
  },
  {
   "cell_type": "markdown",
   "metadata": {},
   "source": [
    "We have roughly 20 images (5% of images) where the second object is clearly visible. The issue is that it's usually right at the border of the vignette."
   ]
  },
  {
   "cell_type": "code",
   "execution_count": null,
   "metadata": {},
   "outputs": [],
   "source": [
    "#Seaborn theme\n",
    "sns.set(context='notebook', style='white', palette='deep')\n",
    "fig, axs = plt.subplots(25,4, figsize=(20, 160), facecolor='w', edgecolor='k')\n",
    "fig.subplots_adjust(hspace = .5, wspace=.1)\n",
    "\n",
    "axs = axs.ravel()\n",
    "for key in blends_dict:\n",
    "    for i in range(len(sep_objects)):\n",
    "        if key == str(sep_objects.iloc[i , 8]):\n",
    "            axs[i].imshow(blends_dict[key], origin = 'lower') #display images\n",
    "            axs[i].scatter(25,25,color='r', marker ='x', s =90) #adding the X mark\n",
    "            axs[i].scatter(25 + sep_objects.iloc[i,5], 25 + sep_objects.iloc[i,6], color='r', marker ='x', s =90) #adding the X mark\n",
    "            axs[i].set_title(key, fontsize=15)\n",
    "    \n",
    "\n",
    "plt.show()"
   ]
  },
  {
   "cell_type": "markdown",
   "metadata": {},
   "source": [
    "## Visualize missed blends on close objects ( $ 20.0 < Distance < 6.0$ )"
   ]
  },
  {
   "cell_type": "markdown",
   "metadata": {},
   "source": [
    "We have mostly very faint secondary objects that the network doesn't perceive. "
   ]
  },
  {
   "cell_type": "code",
   "execution_count": null,
   "metadata": {},
   "outputs": [],
   "source": [
    "sns.set(context='notebook', style='white', palette='deep')\n",
    "fig, axs = plt.subplots(12,4, figsize=(20, 65), facecolor='w', edgecolor='k')\n",
    "fig.subplots_adjust(hspace = .2, wspace=.011)\n",
    "\n",
    "axs = axs.ravel()\n",
    "for key in blends_dict:\n",
    "    for i in range(len(close_objects)):\n",
    "        if key == str(close_objects.iloc[i , 8]):\n",
    "            axs[i].imshow(blends_dict[key], origin = 'lower') #display images\n",
    "            axs[i].scatter(25,25,color='r', marker ='x', s =90) #adding the X mark\n",
    "            axs[i].scatter(25 + close_objects.iloc[i,5], 25 + close_objects.iloc[i,6], color='r', marker ='x', s =90) #adding the X mark\n",
    "            axs[i].set_title(key, fontsize=15)\n",
    "    \n",
    "\n",
    "plt.show()"
   ]
  },
  {
   "cell_type": "markdown",
   "metadata": {},
   "source": [
    "## Visualize missed blends on overlapping objects ( $Distance < 6.0$ )"
   ]
  },
  {
   "cell_type": "code",
   "execution_count": null,
   "metadata": {},
   "outputs": [],
   "source": [
    "sns.set(context='notebook', style='white', palette='deep')\n",
    "fig, axs = plt.subplots(14,4, figsize=(20, 70), facecolor='w', edgecolor='k')\n",
    "fig.subplots_adjust(hspace = .2, wspace=.001)\n",
    "\n",
    "axs = axs.ravel()\n",
    "for key in blends_dict:\n",
    "    for i in range(len(overlaps_objects)):\n",
    "        if key == str(overlaps_objects.iloc[i , 8]):\n",
    "            axs[i].imshow(blends_dict[key], origin = 'lower') #display images\n",
    "            axs[i].scatter(25,25,color='r', marker ='x', s =90) #adding the X mark\n",
    "            axs[i].scatter(25 + overlaps_objects.iloc[i,5], 25 + overlaps_objects.iloc[i,6], color='r', marker ='x', s =90) #adding the X mark\n",
    "            axs[i].set_title(key, fontsize=15)\n",
    "    \n",
    "\n",
    "plt.show()"
   ]
  }
 ],
 "metadata": {
  "kernelspec": {
   "display_name": "Python 3",
   "language": "python",
   "name": "python3"
  },
  "language_info": {
   "codemirror_mode": {
    "name": "ipython",
    "version": 3
   },
   "file_extension": ".py",
   "mimetype": "text/x-python",
   "name": "python",
   "nbconvert_exporter": "python",
   "pygments_lexer": "ipython3",
   "version": "3.7.3"
  }
 },
 "nbformat": 4,
 "nbformat_minor": 2
}

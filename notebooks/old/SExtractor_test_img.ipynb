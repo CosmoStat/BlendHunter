{
 "cells": [
  {
   "cell_type": "markdown",
   "metadata": {},
   "source": [
    "# Running SExtractor on simulated galsim images"
   ]
  },
  {
   "cell_type": "markdown",
   "metadata": {},
   "source": [
    "## Import script for SExtractor\n",
    "Script written by A. Guinot : https://github.com/aguinot"
   ]
  },
  {
   "cell_type": "code",
   "execution_count": 90,
   "metadata": {},
   "outputs": [],
   "source": [
    "from sep_script import Run_Sep"
   ]
  },
  {
   "cell_type": "code",
   "execution_count": 86,
   "metadata": {},
   "outputs": [],
   "source": [
    "#install sep"
   ]
  },
  {
   "cell_type": "code",
   "execution_count": 87,
   "metadata": {},
   "outputs": [],
   "source": [
    "import matplotlib.pyplot as plt\n",
    "from matplotlib.patches import Ellipse\n",
    "import numpy as np\n",
    "from statistics import mean \n",
    "import pandas as pd"
   ]
  },
  {
   "cell_type": "code",
   "execution_count": 88,
   "metadata": {},
   "outputs": [],
   "source": [
    "BIG_DISTANCE = 1e30\n",
    "NO_BLEND = 0\n",
    "BLEND = 1\n",
    "MISS_EXTRACTION = 16"
   ]
  },
  {
   "cell_type": "code",
   "execution_count": 89,
   "metadata": {},
   "outputs": [],
   "source": [
    "#Path to images\n",
    "testpath = '/Users/lacan/Documents/Cosmostat/Codes/BlendHunter'"
   ]
  },
  {
   "cell_type": "markdown",
   "metadata": {},
   "source": [
    "# Run sep function"
   ]
  },
  {
   "cell_type": "code",
   "execution_count": 6,
   "metadata": {},
   "outputs": [],
   "source": [
    "#true_labels = np.load(testpath+'/images_noisy/labels.npy', allow_pickle=True)"
   ]
  },
  {
   "cell_type": "code",
   "execution_count": 115,
   "metadata": {},
   "outputs": [],
   "source": [
    "def sep_results(blends=None,no_blends=None, sigma_val=None,path=None):\n",
    "    runner = Run_Sep()\n",
    "    flags_b, sep_res_b = runner.process(blends)\n",
    "    flags_nb, sep_res_nb = runner.process(no_blends)\n",
    "    \n",
    "    #Display results\n",
    "    acc = (len(np.where(flags_b == 1)[0])+len(np.where(flags_nb == 0)[0]))/(len(flags_b)+len(flags_nb))\n",
    "    \n",
    "    #concatenate flags\n",
    "    flags = np.concatenate((flags_b, flags_nb), axis =0)\n",
    "    #sep_res = np.concatenate((sep_res_b, sep_res_nb), axis =0)\n",
    "    \n",
    "    #save\n",
    "    np.save(path+'/sep_results_8000/flags{}.npy'.format(sigma_val), flags)\n",
    "    #np.save(path+'/sep_results_8000/sep_res{}.npy'.format(sigma_val), sep_res)\n",
    "    print('Sep Accuracy : {}%'.format(acc*100))\n",
    "    n_miss = (len(np.where(flags_b == 16)[0])+len(np.where(flags_nb == 16)[0]))/(len(flags_b)+len(flags_nb))\n",
    "    print('Misidentified : {}%'.format(n_miss*100))\n",
    "    \n",
    "    return acc"
   ]
  },
  {
   "cell_type": "code",
   "execution_count": 109,
   "metadata": {},
   "outputs": [],
   "source": [
    "sigmas = np.array([[5,51,52 ,53, 54],\n",
    "                  [14,141,142,143,144],\n",
    "                  [18,181,182,183,184],\n",
    "                  [26,261,262,263,264],\n",
    "                  [35,351,352,353,354],\n",
    "                  [40,401,402,403,404]])"
   ]
  },
  {
   "cell_type": "code",
   "execution_count": null,
   "metadata": {},
   "outputs": [],
   "source": [
    "#Save results to dict\n",
    "sep_dict = {'acc5': [94.28750000000001,94.28750000000001,94.375,94.39999999999999,94.39999999999999], \n",
    "            'acc14':[94.425,94.475,94.6125,94.5625,94.5375], \n",
    "            'acc18':[93.7875,93.6875,93.8875,93.525,93.5875],\n",
    "            'acc26':[87.5375, 87.8, 87.925, 88.0125, 88.0625 ],\n",
    "            'acc35':[],'acc40':[]}"
   ]
  },
  {
   "cell_type": "code",
   "execution_count": 12,
   "metadata": {},
   "outputs": [],
   "source": [
    "#Save images\n",
    "\n",
    "for i,j in zip(sigmas[5], range(5)):\n",
    "    np.save(testpath+'/test_images/blended_noisy{}'.format(i), blended_40[j])\n",
    "\n",
    "for i,j in zip(sigmas[5], range(5)):\n",
    "    np.save(testpath+'/test_images/not_blended_noisy{}'.format(i), not_blended_40[j])"
   ]
  },
  {
   "cell_type": "code",
   "execution_count": 18,
   "metadata": {},
   "outputs": [],
   "source": [
    "np.save(testpath+'/test_images/blended_noisy_pad35', blended_pad35)\n",
    "np.save(testpath+'/test_images/not_blended_noisy_pad35', not_blended_pad35)"
   ]
  },
  {
   "cell_type": "markdown",
   "metadata": {},
   "source": [
    "### Extract images"
   ]
  },
  {
   "cell_type": "code",
   "execution_count": 40,
   "metadata": {},
   "outputs": [],
   "source": [
    "def extract_test_images(path):\n",
    "    img = np.load(path, allow_pickle=True)\n",
    "    test_img = img[36000:40000]\n",
    "    return test_img"
   ]
  },
  {
   "cell_type": "markdown",
   "metadata": {},
   "source": [
    "# 1. Test SExtractor on 8000 images ($\\sigma_{noise} = 5$)"
   ]
  },
  {
   "cell_type": "code",
   "execution_count": null,
   "metadata": {},
   "outputs": [],
   "source": [
    "paths5 = np.array([[testpath+'/images_noisy/blended_noisy{}.npy'.format(i) for i in sigmas[0]],\n",
    "                   [testpath+'/images_noisy/not_blended_noisy{}.npy'.format(i) for i in sigmas[0]]])"
   ]
  },
  {
   "cell_type": "code",
   "execution_count": 13,
   "metadata": {},
   "outputs": [
    {
     "name": "stderr",
     "output_type": "stream",
     "text": [
      "WARNING: FITSFixedWarning: The WCS transformation has more axes (2) than the image it is associated with (0) [astropy.wcs.wcs]\n",
      "WARNING: FITSFixedWarning: 'datfix' made the change 'Invalid parameter values: MJD-OBS and DATE-OBS are inconsistent'. [astropy.wcs.wcs]\n"
     ]
    }
   ],
   "source": [
    "#Getting the images blended and not blended\n",
    "blended_5 = [extract_test_images(paths5[0][j]) for j in range(5)]"
   ]
  },
  {
   "cell_type": "code",
   "execution_count": 14,
   "metadata": {},
   "outputs": [],
   "source": [
    "not_blended_5 = [extract_test_images(paths5[1][j]) for j in range(5)]"
   ]
  },
  {
   "cell_type": "markdown",
   "metadata": {},
   "source": [
    "### Run SExtractor"
   ]
  },
  {
   "cell_type": "code",
   "execution_count": 15,
   "metadata": {},
   "outputs": [
    {
     "name": "stdout",
     "output_type": "stream",
     "text": [
      "Sep Accuracy : 94.28750000000001%\n",
      "Misidentified : 0.0125%\n",
      "Sep Accuracy : 94.28750000000001%\n",
      "Misidentified : 0.0125%\n",
      "Sep Accuracy : 94.375%\n",
      "Misidentified : 0.0125%\n",
      "Sep Accuracy : 94.39999999999999%\n",
      "Misidentified : 0.0125%\n",
      "Sep Accuracy : 94.39999999999999%\n",
      "Misidentified : 0.0125%\n"
     ]
    }
   ],
   "source": [
    "for i,j in zip(range(5), sigmas[0]):\n",
    "    sep_results(blends=blended_5[i], no_blends = not_blended_5[i], sigma_val=j, path=testpath)"
   ]
  },
  {
   "cell_type": "markdown",
   "metadata": {},
   "source": [
    "# 2. Test SExtractor on 8000 images ($\\sigma_{noise} = 14.0$)"
   ]
  },
  {
   "cell_type": "code",
   "execution_count": 16,
   "metadata": {},
   "outputs": [],
   "source": [
    "paths14 = np.array([[testpath+'/images_noisy/blended_noisy{}.npy'.format(i) for i in sigmas[1]],\n",
    "                   [testpath+'/images_noisy/not_blended_noisy{}.npy'.format(i) for i in sigmas[1]]])"
   ]
  },
  {
   "cell_type": "markdown",
   "metadata": {},
   "source": [
    "### Extract images"
   ]
  },
  {
   "cell_type": "code",
   "execution_count": 17,
   "metadata": {},
   "outputs": [],
   "source": [
    "#Getting the images blended and not blended\n",
    "blended_14 = [extract_test_images(paths14[0][j]) for j in range(5)]"
   ]
  },
  {
   "cell_type": "code",
   "execution_count": 18,
   "metadata": {},
   "outputs": [],
   "source": [
    "not_blended_14 = [extract_test_images(paths14[1][j]) for j in range(5)]"
   ]
  },
  {
   "cell_type": "markdown",
   "metadata": {},
   "source": [
    "### Run SExtractor"
   ]
  },
  {
   "cell_type": "code",
   "execution_count": 19,
   "metadata": {},
   "outputs": [
    {
     "name": "stdout",
     "output_type": "stream",
     "text": [
      "Sep Accuracy : 94.425%\n",
      "Misidentified : 0.075%\n",
      "Sep Accuracy : 94.475%\n",
      "Misidentified : 0.0625%\n",
      "Sep Accuracy : 94.6125%\n",
      "Misidentified : 0.075%\n",
      "Sep Accuracy : 94.5625%\n",
      "Misidentified : 0.075%\n",
      "Sep Accuracy : 94.5375%\n",
      "Misidentified : 0.0625%\n"
     ]
    }
   ],
   "source": [
    "for i,j in zip(range(5), sigmas[1]):\n",
    "    sep_results(blends=blended_14[i], no_blends = not_blended_14[i], sigma_val=j, path=testpath)"
   ]
  },
  {
   "cell_type": "markdown",
   "metadata": {},
   "source": [
    "# 4. Test SExtractor on 8000 images ($\\sigma_{noise} = 18.0$)"
   ]
  },
  {
   "cell_type": "code",
   "execution_count": 13,
   "metadata": {},
   "outputs": [],
   "source": [
    "paths18 = np.array([[testpath+'/images_noisy/blended_noisy{}.npy'.format(i) for i in sigmas[2]],\n",
    "                   [testpath+'/images_noisy/not_blended_noisy{}.npy'.format(i) for i in sigmas[2]]])\n",
    "\n",
    "#Getting the images blended and not blended\n",
    "blended_18 = [extract_test_images(paths18[0][j]) for j in range(5)]\n",
    "not_blended_18 = [extract_test_images(paths18[1][j]) for j in range(5)]"
   ]
  },
  {
   "cell_type": "code",
   "execution_count": 19,
   "metadata": {},
   "outputs": [
    {
     "name": "stdout",
     "output_type": "stream",
     "text": [
      "Sep Accuracy : 93.7875%\n",
      "Misidentified : 0.22499999999999998%\n",
      "Sep Accuracy : 93.6875%\n",
      "Misidentified : 0.2375%\n",
      "Sep Accuracy : 93.8875%\n",
      "Misidentified : 0.22499999999999998%\n",
      "Sep Accuracy : 93.525%\n",
      "Misidentified : 0.22499999999999998%\n",
      "Sep Accuracy : 93.5875%\n",
      "Misidentified : 0.3%\n"
     ]
    }
   ],
   "source": [
    "#Run sep\n",
    "for i,j in zip(range(5), sigmas[2]):\n",
    "    sep_results(blends=blended_18[i], no_blends = not_blended_18[i], sigma_val=j, path=testpath)"
   ]
  },
  {
   "cell_type": "markdown",
   "metadata": {},
   "source": [
    "# 5. Test SExtractor on 8000 images ($\\sigma_{noise} = 26.0$)"
   ]
  },
  {
   "cell_type": "code",
   "execution_count": 15,
   "metadata": {},
   "outputs": [],
   "source": [
    "paths26 = np.array([[testpath+'/images_noisy/blended_noisy{}.npy'.format(i) for i in sigmas[3]],\n",
    "                   [testpath+'/images_noisy/not_blended_noisy{}.npy'.format(i) for i in sigmas[3]]])\n",
    "\n",
    "#Getting the images blended and not blended\n",
    "blended_26 = [extract_test_images(paths26[0][j]) for j in range(5)]\n",
    "not_blended_26 = [extract_test_images(paths26[1][j]) for j in range(5)]"
   ]
  },
  {
   "cell_type": "code",
   "execution_count": 18,
   "metadata": {},
   "outputs": [
    {
     "name": "stdout",
     "output_type": "stream",
     "text": [
      "Sep Accuracy : 87.5375%\n",
      "Misidentified : 1.8499999999999999%\n",
      "Sep Accuracy : 87.8%\n",
      "Misidentified : 1.8875%\n",
      "Sep Accuracy : 87.925%\n",
      "Misidentified : 1.7624999999999997%\n",
      "Sep Accuracy : 88.0125%\n",
      "Misidentified : 1.7624999999999997%\n",
      "Sep Accuracy : 88.0625%\n",
      "Misidentified : 1.5875%\n"
     ]
    }
   ],
   "source": [
    "#Run sep\n",
    "for i,j in zip(range(5), sigmas[3]):\n",
    "    sep_results(blends=blended_26[i], no_blends = not_blended_26[i], sigma_val=j, path=testpath)\n"
   ]
  },
  {
   "cell_type": "markdown",
   "metadata": {},
   "source": [
    "# 6. Test SExtractor on 8000 images ($\\sigma_{noise} = 35.0$)"
   ]
  },
  {
   "cell_type": "code",
   "execution_count": null,
   "metadata": {},
   "outputs": [],
   "source": [
    "paths35 = np.array([[testpath+'/images_noisy/blended_noisy{}.npy'.format(i) for i in sigmas[4]],\n",
    "                   [testpath+'/images_noisy/not_blended_noisy{}.npy'.format(i) for i in sigmas[4]]])\n",
    "\n",
    "#Getting the images blended and not blended\n",
    "blended_35 = [extract_test_images(paths35[0][j]) for j in range(5)]\n",
    "not_blended_35 = [extract_test_images(paths35[1][j]) for j in range(5)]"
   ]
  },
  {
   "cell_type": "code",
   "execution_count": 116,
   "metadata": {},
   "outputs": [
    {
     "name": "stdout",
     "output_type": "stream",
     "text": [
      "Sep Accuracy : 75.47500000000001%\n",
      "Misidentified : 6.425%\n",
      "Sep Accuracy : 74.41250000000001%\n",
      "Misidentified : 7.2375%\n",
      "Sep Accuracy : 75.1375%\n",
      "Misidentified : 7.062499999999999%\n",
      "Sep Accuracy : 75.14999999999999%\n",
      "Misidentified : 6.9625%\n",
      "Sep Accuracy : 74.65%\n",
      "Misidentified : 7.0874999999999995%\n"
     ]
    }
   ],
   "source": [
    "#Run sep\n",
    "for i,j in zip(range(5), sigmas[4]):\n",
    "    sep_results(blends=blended_35[i], no_blends = not_blended_35[i], sigma_val=j, path=testpath)"
   ]
  },
  {
   "cell_type": "markdown",
   "metadata": {},
   "source": [
    "# 7. Test SExtractor on 8000 images ($\\sigma_{noise} = 40.0$)"
   ]
  },
  {
   "cell_type": "code",
   "execution_count": 11,
   "metadata": {},
   "outputs": [
    {
     "name": "stderr",
     "output_type": "stream",
     "text": [
      "WARNING: FITSFixedWarning: The WCS transformation has more axes (2) than the image it is associated with (0) [astropy.wcs.wcs]\n",
      "WARNING: FITSFixedWarning: 'datfix' made the change 'Invalid parameter values: MJD-OBS and DATE-OBS are inconsistent'. [astropy.wcs.wcs]\n"
     ]
    }
   ],
   "source": [
    "paths40 = np.array([[testpath+'/images_noisy/blended_noisy{}.npy'.format(i) for i in sigmas[5]],\n",
    "                   [testpath+'/images_noisy/not_blended_noisy{}.npy'.format(i) for i in sigmas[5]]])\n",
    "\n",
    "#Getting the images blended and not blended\n",
    "blended_40 = [extract_test_images(paths40[0][j]) for j in range(5)]\n",
    "not_blended_40 = [extract_test_images(paths40[1][j]) for j in range(5)]"
   ]
  },
  {
   "cell_type": "code",
   "execution_count": 17,
   "metadata": {},
   "outputs": [
    {
     "name": "stdout",
     "output_type": "stream",
     "text": [
      "Sep Accuracy : 66.7%\n",
      "Misidentified : 11.2875%\n",
      "Sep Accuracy : 67.25%\n",
      "Misidentified : 11.025%\n",
      "Sep Accuracy : 66.9%\n",
      "Misidentified : 11.375%\n",
      "Sep Accuracy : 66.5%\n",
      "Misidentified : 11.1375%\n",
      "Sep Accuracy : 66.5875%\n",
      "Misidentified : 11.450000000000001%\n"
     ]
    }
   ],
   "source": [
    "#Run sep\n",
    "for i,j in zip(range(5), sigmas[5]):\n",
    "    sep_results(blends=blended_40[i], no_blends = not_blended_40[i], sigma_val=j, path=testpath)"
   ]
  },
  {
   "cell_type": "markdown",
   "metadata": {},
   "source": [
    "# 8. Real images test"
   ]
  },
  {
   "cell_type": "code",
   "execution_count": null,
   "metadata": {},
   "outputs": [],
   "source": [
    "path_real = ['/Users/lacan/Documents/Cosmostat/Codes/BlendHunter/bh_real/blended_noisy.npy',\n",
    "             '/Users/lacan/Documents/Cosmostat/Codes/BlendHunter/bh_real/not_blended_noisy.npy']\n",
    "\n",
    "#Getting the images blended and not blended\n",
    "blended_real = extract_test_images(path_real[0])\n",
    "not_blended_real = extract_test_images(path_real[1])"
   ]
  },
  {
   "cell_type": "code",
   "execution_count": 34,
   "metadata": {},
   "outputs": [
    {
     "name": "stdout",
     "output_type": "stream",
     "text": [
      "Sep Accuracy : 90.9625%\n",
      "Misidentified : 0.13749999999999998%\n"
     ]
    },
    {
     "data": {
      "text/plain": [
       "array([0, 0, 1, ..., 0, 0, 0])"
      ]
     },
     "execution_count": 34,
     "metadata": {},
     "output_type": "execute_result"
    }
   ],
   "source": [
    "#Run sep\n",
    "sep_results(blends=blended_real, no_blends = not_blended_real, sigma_val='real', path=testpath)"
   ]
  },
  {
   "cell_type": "markdown",
   "metadata": {},
   "source": [
    "# 9. Tests on padded images"
   ]
  },
  {
   "cell_type": "markdown",
   "metadata": {},
   "source": [
    "## Pad5"
   ]
  },
  {
   "cell_type": "code",
   "execution_count": 43,
   "metadata": {},
   "outputs": [],
   "source": [
    "path_pad5 = ['/Users/lacan/Documents/Cosmostat/Codes/BlendHunter/bh_pad5/blended_noisy.npy',\n",
    "             '/Users/lacan/Documents/Cosmostat/Codes/BlendHunter/bh_pad5/not_blended_noisy.npy']\n",
    "\n",
    "#Getting the images blended and not blended\n",
    "blended_pad5 = extract_test_images(path_pad5[0])\n",
    "not_blended_pad5 = extract_test_images(path_pad5[1])"
   ]
  },
  {
   "cell_type": "code",
   "execution_count": 111,
   "metadata": {},
   "outputs": [
    {
     "name": "stdout",
     "output_type": "stream",
     "text": [
      "Sep Accuracy : 94.55%\n"
     ]
    }
   ],
   "source": [
    "runner5 = Run_Sep()\n",
    "flags_b5, sep_res_b5 = runner5.process(blended_pad5)\n",
    "flags_nb5, sep_res_nb5 = runner5.process(not_blended_pad5)\n",
    "    \n",
    "#Display results\n",
    "acc5 = (len(np.where(flags_b5 == 1)[0])+len(np.where(flags_nb5 == 0)[0]))/(len(flags_b5)+len(flags_nb5))\n",
    "print('Sep Accuracy : {}%'.format(acc5*100))"
   ]
  },
  {
   "cell_type": "markdown",
   "metadata": {},
   "source": [
    "## Pad18"
   ]
  },
  {
   "cell_type": "code",
   "execution_count": 54,
   "metadata": {},
   "outputs": [],
   "source": [
    "path_pad18 = ['/Users/lacan/Documents/Cosmostat/Codes/BlendHunter/bh_pad18/blended_noisy.npy',\n",
    "             '/Users/lacan/Documents/Cosmostat/Codes/BlendHunter/bh_pad18/not_blended_noisy.npy']\n",
    "\n",
    "#Getting the images blended and not blended\n",
    "blended_pad18 = extract_test_images(path_pad18[0])\n",
    "not_blended_pad18 = extract_test_images(path_pad18[1])"
   ]
  },
  {
   "cell_type": "code",
   "execution_count": 112,
   "metadata": {},
   "outputs": [
    {
     "name": "stdout",
     "output_type": "stream",
     "text": [
      "Sep Accuracy : 94.05%\n"
     ]
    }
   ],
   "source": [
    "runner18 = Run_Sep()\n",
    "flags_b18, sep_res_b18 = runner18.process(blended_pad18)\n",
    "flags_nb18, sep_res_nb18 = runner18.process(not_blended_pad18)\n",
    "    \n",
    "#Display results\n",
    "acc18 = (len(np.where(flags_b18 == 1)[0])+len(np.where(flags_nb18 == 0)[0]))/(len(flags_b18)+len(flags_nb18))\n",
    "print('Sep Accuracy : {}%'.format(acc18*100))"
   ]
  },
  {
   "cell_type": "code",
   "execution_count": 14,
   "metadata": {},
   "outputs": [],
   "source": [
    "#concatenate flags\n",
    "flags18 = np.concatenate((flags_b18, flags_nb18), axis =0)\n",
    "\n",
    "#save\n",
    "np.save(testpath+'/sep_results_8000/flags_pad18.npy', flags18)\n",
    "np.save(testpath+'/sep_results_8000/sep_res_pad18_blends.npy', sep_res_b18)"
   ]
  },
  {
   "cell_type": "markdown",
   "metadata": {},
   "source": [
    "## Pad26"
   ]
  },
  {
   "cell_type": "code",
   "execution_count": 57,
   "metadata": {},
   "outputs": [],
   "source": [
    "path_pad26 = ['/Users/lacan/Documents/Cosmostat/Codes/BlendHunter/bh_pad26/blended_noisy.npy',\n",
    "             '/Users/lacan/Documents/Cosmostat/Codes/BlendHunter/bh_pad26/not_blended_noisy.npy']\n",
    "\n",
    "#Getting the images blended and not blended\n",
    "blended_pad26 = extract_test_images(path_pad26[0])\n",
    "not_blended_pad26 = extract_test_images(path_pad26[1])"
   ]
  },
  {
   "cell_type": "code",
   "execution_count": 113,
   "metadata": {},
   "outputs": [
    {
     "name": "stdout",
     "output_type": "stream",
     "text": [
      "Sep Accuracy : 89.2375%\n"
     ]
    }
   ],
   "source": [
    "runner26 = Run_Sep()\n",
    "flags_b26, sep_res_b26 = runner26.process(blended_pad26)\n",
    "flags_nb26, sep_res_nb26 = runner26.process(not_blended_pad26)\n",
    "    \n",
    "#Display results\n",
    "acc26 = (len(np.where(flags_b26 == 1)[0])+len(np.where(flags_nb26 == 0)[0]))/(len(flags_b26)+len(flags_nb26))\n",
    "print('Sep Accuracy : {}%'.format(acc26*100))"
   ]
  },
  {
   "cell_type": "markdown",
   "metadata": {},
   "source": [
    "## Pad35"
   ]
  },
  {
   "cell_type": "code",
   "execution_count": 60,
   "metadata": {},
   "outputs": [],
   "source": [
    "path_pad35 = ['/Users/lacan/Documents/Cosmostat/Codes/BlendHunter/bh_pad35/blended_noisy.npy',\n",
    "             '/Users/lacan/Documents/Cosmostat/Codes/BlendHunter/bh_pad35/not_blended_noisy.npy']\n",
    "\n",
    "#Getting the images blended and not blended\n",
    "blended_pad35 = extract_test_images(path_pad35[0])\n",
    "not_blended_pad35 = extract_test_images(path_pad35[1])"
   ]
  },
  {
   "cell_type": "code",
   "execution_count": 114,
   "metadata": {},
   "outputs": [
    {
     "name": "stdout",
     "output_type": "stream",
     "text": [
      "Sep Accuracy : 77.95%\n"
     ]
    }
   ],
   "source": [
    "runner35 = Run_Sep()\n",
    "flags_b35, sep_res_b35 = runner35.process(blended_pad35)\n",
    "flags_nb35, sep_res_nb35 = runner35.process(not_blended_pad35)\n",
    "    \n",
    "#Display results\n",
    "acc35 = (len(np.where(flags_b35 == 1)[0])+len(np.where(flags_nb35 == 0)[0]))/(len(flags_b35)+len(flags_nb35))\n",
    "print('Sep Accuracy : {}%'.format(acc35*100))"
   ]
  },
  {
   "cell_type": "code",
   "execution_count": 53,
   "metadata": {},
   "outputs": [],
   "source": [
    "#concatenate flags\n",
    "flags = np.concatenate((flags_b, flags_nb), axis =0)\n",
    "# sep_res = np.concatenate((sep_res_b, sep_res_nb), axis =0)\n",
    "    "
   ]
  },
  {
   "cell_type": "code",
   "execution_count": 56,
   "metadata": {},
   "outputs": [],
   "source": [
    "#save\n",
    "np.save(testpath+'/sep_results_8000/flags_pad35.npy', flags)\n",
    "np.save(testpath+'/sep_results_8000/sep_res_pad35_blends.npy', sep_res_b)"
   ]
  },
  {
   "cell_type": "markdown",
   "metadata": {},
   "source": [
    "## Pad40"
   ]
  },
  {
   "cell_type": "code",
   "execution_count": 117,
   "metadata": {},
   "outputs": [],
   "source": [
    "path_pad40 = ['/Users/lacan/Documents/Cosmostat/Codes/BlendHunter/bh_pad40/blended_noisy.npy',\n",
    "             '/Users/lacan/Documents/Cosmostat/Codes/BlendHunter/bh_pad40/not_blended_noisy.npy']\n",
    "\n",
    "#Getting the images blended and not blended\n",
    "blended_pad40 = extract_test_images(path_pad40[0])\n",
    "not_blended_pad40 = extract_test_images(path_pad40[1])"
   ]
  },
  {
   "cell_type": "code",
   "execution_count": 119,
   "metadata": {},
   "outputs": [
    {
     "name": "stdout",
     "output_type": "stream",
     "text": [
      "Sep Accuracy : 70.7%\n"
     ]
    }
   ],
   "source": [
    "runner40 = Run_Sep()\n",
    "flags_b40, sep_res_b40 = runner40.process(blended_pad40)\n",
    "flags_nb40, sep_res_nb40 = runner40.process(not_blended_pad40)\n",
    "    \n",
    "#Display results\n",
    "acc40 = (len(np.where(flags_b40 == 1)[0])+len(np.where(flags_nb40 == 0)[0]))/(len(flags_b40)+len(flags_nb40))\n",
    "print('Sep Accuracy : {}%'.format(acc40*100))"
   ]
  },
  {
   "cell_type": "markdown",
   "metadata": {},
   "source": [
    "# Tests on dataset with mixed noise"
   ]
  },
  {
   "cell_type": "code",
   "execution_count": 121,
   "metadata": {},
   "outputs": [],
   "source": [
    "path_mn = ['/Users/lacan/Documents/Cosmostat/Codes/BlendHunter/bh_mix_close/blended_noisy.npy',\n",
    "             '/Users/lacan/Documents/Cosmostat/Codes/BlendHunter/bh_mix_close/not_blended_noisy.npy']\n",
    "\n",
    "#Getting the images blended and not blended\n",
    "blended_mn = extract_test_images(path_mn[0])\n",
    "not_blended_mn = extract_test_images(path_mn[1])"
   ]
  },
  {
   "cell_type": "code",
   "execution_count": 123,
   "metadata": {},
   "outputs": [
    {
     "name": "stdout",
     "output_type": "stream",
     "text": [
      "Sep Accuracy : 85.0%\n"
     ]
    }
   ],
   "source": [
    "runner_mn = Run_Sep()\n",
    "flags_b_mn, sep_res_b_mn = runner_mn.process(blended_mn)\n",
    "flags_nb_mn, sep_res_nb_mn = runner_mn.process(not_blended_mn)\n",
    "    \n",
    "#Display results\n",
    "acc = (len(np.where(flags_b_mn == 1)[0])+len(np.where(flags_nb_mn == 0)[0]))/(len(flags_b_mn)+len(flags_nb_mn))\n",
    "print('Sep Accuracy : {}%'.format(acc*100))"
   ]
  },
  {
   "cell_type": "code",
   "execution_count": 17,
   "metadata": {},
   "outputs": [],
   "source": [
    "#concatenate flags\n",
    "flags_mn = np.concatenate((flags_b_mn, flags_nb_mn), axis =0)\n",
    "#save\n",
    "np.save(testpath+'/sep_results_8000/flags_mn.npy', flags_mn)\n",
    "np.save(testpath+'/sep_results_8000/sep_res_mn.npy', sep_res_b_mn)"
   ]
  },
  {
   "cell_type": "markdown",
   "metadata": {},
   "source": [
    "# 11. Testing on denoised images"
   ]
  },
  {
   "cell_type": "code",
   "execution_count": 40,
   "metadata": {},
   "outputs": [],
   "source": [
    "#Path to denoised images\n",
    "path_dn = '/Users/alacan/Documents/Cosmostat/Codes/BlendHunter/denoised'"
   ]
  },
  {
   "cell_type": "code",
   "execution_count": null,
   "metadata": {},
   "outputs": [],
   "source": [
    "#Add denoised images to dict\n",
    "\n",
    "path5 = '/Users/alacan/Documents/Cosmostat/Codes/BlendHunter/bh_5'\n",
    "blended_5 = np.load(path5 + '/blended_noisy.npy', allow_pickle=True)\n",
    "\n",
    "def add_to_dict(sample, denoised_img=None):\n",
    "    for i in range(len(sample)):\n",
    "            sample[i]['denoised_img'] = denoised_img[i]\n",
    "            \n",
    "            return sample"
   ]
  },
  {
   "cell_type": "code",
   "execution_count": 43,
   "metadata": {},
   "outputs": [],
   "source": [
    "dn_5 = np.load(path_dn + '/bh_5_denoised1/blended_dn.npy', allow_pickle=True)\n",
    "#blended_5 = add_to_dict(blended_5, denoised_img = dn_5)"
   ]
  },
  {
   "cell_type": "markdown",
   "metadata": {},
   "source": [
    "# 12. Tests on Fixed SNR"
   ]
  },
  {
   "cell_type": "code",
   "execution_count": 4,
   "metadata": {},
   "outputs": [],
   "source": [
    "#Import images\n",
    "path_ = '/users/alacan/Documents/Cosmostat/Codes/BlendHunter'"
   ]
  },
  {
   "cell_type": "code",
   "execution_count": 6,
   "metadata": {},
   "outputs": [
    {
     "name": "stderr",
     "output_type": "stream",
     "text": [
      "WARNING: FITSFixedWarning: The WCS transformation has more axes (2) than the image it is associated with (0) [astropy.wcs.wcs]\n",
      "WARNING: FITSFixedWarning: 'datfix' made the change 'Invalid parameter values: MJD-OBS and DATE-OBS are inconsistent'. [astropy.wcs.wcs]\n"
     ]
    }
   ],
   "source": [
    "snr105 = np.load(path_ + '/bh_snr105/blended_noisy.npy', allow_pickle=True)"
   ]
  },
  {
   "cell_type": "markdown",
   "metadata": {},
   "source": [
    "### SNR = 105"
   ]
  },
  {
   "cell_type": "code",
   "execution_count": 7,
   "metadata": {},
   "outputs": [
    {
     "name": "stdout",
     "output_type": "stream",
     "text": [
      "Blend accuracy : 85.85%\n",
      "Blend missed : 14.15%\n",
      "Wrongly identify (false positives): 0.00%\n"
     ]
    }
   ],
   "source": [
    "runner_snr5 = Run_Sep()\n",
    "flags_snr5, sep_res_snr5 = runner_snr5.process(snr105)\n",
    "n_blend_snr5 = len(np.where(flags_snr5 == 1)[0])/len(flags_snr5)\n",
    "n_noblend_snr5 = len(np.where(flags_snr5 == 0)[0])/len(flags_snr5)\n",
    "n_miss_snr5 = len(np.where(flags_snr5 == 16)[0])/len(flags_snr5)\n",
    "print('Blend accuracy : {:.2f}%'.format(n_blend_snr5*100))\n",
    "print('Blend missed : {:.2f}%'.format(n_noblend_snr5*100))\n",
    "print('Wrongly identify (false positives): {:.2f}%'.format(n_miss_snr5*100))"
   ]
  },
  {
   "cell_type": "markdown",
   "metadata": {},
   "source": [
    "### SNR = 125"
   ]
  },
  {
   "cell_type": "code",
   "execution_count": 8,
   "metadata": {},
   "outputs": [],
   "source": [
    "snr125 = np.load(path_ + '/bh_snr125/blended_noisy.npy', allow_pickle=True)"
   ]
  },
  {
   "cell_type": "code",
   "execution_count": 9,
   "metadata": {},
   "outputs": [
    {
     "name": "stdout",
     "output_type": "stream",
     "text": [
      "Blend accuracy : 86.25%\n",
      "Blend missed : 13.75%\n",
      "Wrongly identify (false positives): 0.00%\n"
     ]
    }
   ],
   "source": [
    "runner_snr125 = Run_Sep()\n",
    "flags_snr125, sep_res_snr125 = runner_snr125.process(snr125)\n",
    "n_blend_snr125 = len(np.where(flags_snr125 == 1)[0])/len(flags_snr125)\n",
    "n_noblend_snr125 = len(np.where(flags_snr125 == 0)[0])/len(flags_snr125)\n",
    "n_miss_snr125 = len(np.where(flags_snr125 == 16)[0])/len(flags_snr125)\n",
    "print('Blend accuracy : {:.2f}%'.format(n_blend_snr125*100))\n",
    "print('Blend missed : {:.2f}%'.format(n_noblend_snr125*100))\n",
    "print('Wrongly identify (false positives): {:.2f}%'.format(n_miss_snr125*100))"
   ]
  },
  {
   "cell_type": "markdown",
   "metadata": {},
   "source": [
    "### SNR = 100"
   ]
  },
  {
   "cell_type": "code",
   "execution_count": 5,
   "metadata": {},
   "outputs": [
    {
     "name": "stderr",
     "output_type": "stream",
     "text": [
      "WARNING: FITSFixedWarning: The WCS transformation has more axes (2) than the image it is associated with (0) [astropy.wcs.wcs]\n",
      "WARNING: FITSFixedWarning: 'datfix' made the change 'Invalid parameter values: MJD-OBS and DATE-OBS are inconsistent'. [astropy.wcs.wcs]\n"
     ]
    }
   ],
   "source": [
    "snr100 = np.load(path_ + '/bh_snr100/blended_noisy.npy', allow_pickle=True)"
   ]
  },
  {
   "cell_type": "code",
   "execution_count": 7,
   "metadata": {},
   "outputs": [],
   "source": [
    "snr100 = snr100[36000:40000]"
   ]
  },
  {
   "cell_type": "code",
   "execution_count": 8,
   "metadata": {},
   "outputs": [
    {
     "name": "stdout",
     "output_type": "stream",
     "text": [
      "Blend accuracy : 85.47%\n",
      "Blend missed : 14.47%\n",
      "Wrongly identify (false positives): 0.05%\n"
     ]
    }
   ],
   "source": [
    "runner_snr100 = Run_Sep()\n",
    "flags_snr100, sep_res_snr100 = runner_snr100.process(snr100)\n",
    "n_blend_snr100 = len(np.where(flags_snr100 == 1)[0])/len(flags_snr100)\n",
    "n_noblend_snr100 = len(np.where(flags_snr100 == 0)[0])/len(flags_snr100)\n",
    "n_miss_snr100 = len(np.where(flags_snr100 == 16)[0])/len(flags_snr100)\n",
    "print('Blend accuracy : {:.2f}%'.format(n_blend_snr100*100))\n",
    "print('Blend missed : {:.2f}%'.format(n_noblend_snr100*100))\n",
    "print('Wrongly identify (false positives): {:.2f}%'.format(n_miss_snr100*100))"
   ]
  },
  {
   "cell_type": "markdown",
   "metadata": {},
   "source": [
    "### SNR = 75"
   ]
  },
  {
   "cell_type": "code",
   "execution_count": 9,
   "metadata": {},
   "outputs": [],
   "source": [
    "snr75 = np.load(path_ + '/bh_snr75/blended_noisy.npy', allow_pickle=True)"
   ]
  },
  {
   "cell_type": "code",
   "execution_count": 11,
   "metadata": {},
   "outputs": [],
   "source": [
    "snr75 = snr75[36000:40000]"
   ]
  },
  {
   "cell_type": "code",
   "execution_count": 12,
   "metadata": {},
   "outputs": [
    {
     "name": "stdout",
     "output_type": "stream",
     "text": [
      "Blend accuracy : 84.35%\n",
      "Blend missed : 15.60%\n",
      "Wrongly identify (false positives): 0.05%\n"
     ]
    }
   ],
   "source": [
    "runner_snr75 = Run_Sep()\n",
    "flags_snr75, sep_res_snr75 = runner_snr75.process(snr75)\n",
    "n_blend_snr75 = len(np.where(flags_snr75 == 1)[0])/len(flags_snr75)\n",
    "n_noblend_snr75 = len(np.where(flags_snr75 == 0)[0])/len(flags_snr75)\n",
    "n_miss_snr75 = len(np.where(flags_snr75 == 16)[0])/len(flags_snr75)\n",
    "print('Blend accuracy : {:.2f}%'.format(n_blend_snr75*100))\n",
    "print('Blend missed : {:.2f}%'.format(n_noblend_snr75*100))\n",
    "print('Wrongly identify (false positives): {:.2f}%'.format(n_miss_snr75*100))"
   ]
  },
  {
   "cell_type": "code",
   "execution_count": null,
   "metadata": {},
   "outputs": [],
   "source": []
  }
 ],
 "metadata": {
  "kernelspec": {
   "display_name": "Python 3",
   "language": "python",
   "name": "python3"
  },
  "language_info": {
   "codemirror_mode": {
    "name": "ipython",
    "version": 3
   },
   "file_extension": ".py",
   "mimetype": "text/x-python",
   "name": "python",
   "nbconvert_exporter": "python",
   "pygments_lexer": "ipython3",
   "version": "3.7.3"
  }
 },
 "nbformat": 4,
 "nbformat_minor": 2
}
